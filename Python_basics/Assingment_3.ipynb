{
 "cells": [
  {
   "cell_type": "markdown",
   "id": "2447f87a",
   "metadata": {},
   "source": [
    "### 1. Why are functions advantageous to have in your programs?\n",
    "\n",
    "Reusability: Functions allow you to reuse the same piece of code multiple times in a program without having to repeat it. This saves time and effort and reduces the amount of code that needs to be written.\n",
    "\n",
    "Modularity: Functions allow you to break down a program into smaller, more manageable pieces. This makes the code easier to understand, maintain, and modify.\n",
    "\n",
    "Abstraction: Functions provide a level of abstraction that allows you to hide the implementation details of a particular piece of code. This makes the code easier to use and reduces the chances of errors.\n",
    "\n",
    "Encapsulation: Functions allow you to encapsulate a set of instructions into a single unit, which can then be treated as a black box. This makes the code more modular, flexible, and easier to test.\n",
    "\n",
    "Readability: Functions make the code more readable and understandable by providing a clear and concise way of expressing a specific task or operation."
   ]
  },
  {
   "cell_type": "markdown",
   "id": "8f604f35",
   "metadata": {},
   "source": [
    "### 2. When does the code in a function run: when it's specified or when it's called?\n",
    "\n",
    "The code inside a function in a programming language does not run when the function is defined. Instead, the code inside a function runs only when the function is called.\n",
    "\n",
    "When a function is defined, the code inside the function is not executed immediately. Instead, the function definition is stored in memory, and the code inside the function is executed only when the function is called later in the program.\n",
    "\n",
    "When the function is called, the program jumps to the point in the code where the function is defined and starts executing the code inside the function. Once the code inside the function has finished executing, the program returns to the point in the code where the function was called and continues executing the rest of the program.\n",
    "\n",
    "Therefore, the code inside a function runs only when it is called, not when it is defined."
   ]
  },
  {
   "cell_type": "markdown",
   "id": "158aca3d",
   "metadata": {},
   "source": [
    "### 3. What statement creates a function?\n",
    "\n",
    "def statement is used to creat function."
   ]
  },
  {
   "cell_type": "markdown",
   "id": "e431a4ff",
   "metadata": {},
   "source": [
    "### 4. What is the difference between a function and a function call?\n",
    "\n",
    "A function is a block of reusable code that performs a specific task. It is defined using the def statement in Python and can take input arguments (if any) and return output (if required).\n",
    "\n",
    "A function call is a statement that invokes a function with a specific set of input arguments (if any). A function call typically includes the function name followed by a pair of parentheses containing the input arguments (if any)."
   ]
  },
  {
   "cell_type": "markdown",
   "id": "cc283ddd",
   "metadata": {},
   "source": [
    "### 5. How many global scopes are there in a Python program? How many local scopes?\n",
    "\n",
    "There is only one global scope in a Python program, and the number of local scopes depends on how many times the program calls functions that create local scopes.\n"
   ]
  },
  {
   "cell_type": "markdown",
   "id": "7a222e6a",
   "metadata": {},
   "source": [
    "### 6. What happens to variables in a local scope when the function call returns?\n",
    "\n",
    "When a function call returns, the local variables declared within the function are destroyed, and their values are lost. The memory space used by these variables is released back to the system. The variables declared outside the function, i.e., the global variables, are not affected and retain their values."
   ]
  },
  {
   "cell_type": "markdown",
   "id": "b189b6a1",
   "metadata": {},
   "source": [
    "### 7. What is the concept of a return value? Is it possible to have a return value in an expression?\n",
    "\n",
    "A return value is the value that a function or method returns to the caller after completing its task. The return value is usually used to pass data back to the calling code, indicating the status of the function execution or providing the results of the function computation."
   ]
  },
  {
   "cell_type": "markdown",
   "id": "e9ffd44b",
   "metadata": {},
   "source": [
    "### 8. If a function does not have a return statement, what is the return value of a call to that function?\n",
    "\n",
    "If a function does not have a return statement, then the return value of a call to that function is None."
   ]
  },
  {
   "cell_type": "markdown",
   "id": "b70fd69b",
   "metadata": {},
   "source": [
    "### 9. How do you make a function variable refer to the global variable?\n",
    "\n",
    "In Python, we can make a function variable refer to a global variable using the global keyword.\n"
   ]
  },
  {
   "cell_type": "code",
   "execution_count": 1,
   "id": "a53dd9f9",
   "metadata": {},
   "outputs": [
    {
     "name": "stdout",
     "output_type": "stream",
     "text": [
      "Inside my_function, x = 20\n",
      "Outside my_function, x = 20\n"
     ]
    }
   ],
   "source": [
    "x = 10\n",
    "\n",
    "def my_function():\n",
    "    global x\n",
    "    x = 20\n",
    "    print(\"Inside my_function, x =\", x)\n",
    "\n",
    "my_function()\n",
    "print(\"Outside my_function, x =\", x)"
   ]
  },
  {
   "cell_type": "markdown",
   "id": "1e65ba06",
   "metadata": {},
   "source": [
    "### 10. What is the data type of None?\n",
    "\n",
    "None is a built-in constant that represents the absence of a value. It is commonly used to indicate that a variable or expression should have no value or that a function has no return value.\n"
   ]
  },
  {
   "cell_type": "markdown",
   "id": "ca95fa40",
   "metadata": {},
   "source": [
    "### 11. What does the sentence import areallyourpetsnamederic do?\n",
    "\n",
    "This statement imports a module areallyourpetsnamederic, but as we see below there is no module named areallyourpetsnamederic in Python.\n",
    "\n",
    "ModuleNotFoundError: No module named 'areallyourpetsnamederic'"
   ]
  },
  {
   "cell_type": "markdown",
   "id": "13e502b8",
   "metadata": {},
   "source": [
    "### 12. If you had a bacon() feature in a spam module, what would you call it after importing spam?\n",
    "\n",
    "spam.bacon()"
   ]
  },
  {
   "cell_type": "markdown",
   "id": "d033020b",
   "metadata": {},
   "source": [
    "### 13. What can you do to save a programme from crashing if it encounters an error?\n",
    "\n",
    "We can use try statement to test a code block and if it encounters an error an except block handles the error which avoids crashing a program."
   ]
  },
  {
   "cell_type": "markdown",
   "id": "f6c4afe8",
   "metadata": {},
   "source": [
    "### 14. What is the purpose of the try clause? What is the purpose of the except clause?\n",
    "\n",
    "Use a try block to enclose the code that may raise an error, and an except block to handle the error gracefully. The except block should include the type of error that you expect to occur, and it should contain code to handle the error, such as printing an error message or logging the error."
   ]
  }
 ],
 "metadata": {
  "kernelspec": {
   "display_name": "Python 3 (ipykernel)",
   "language": "python",
   "name": "python3"
  },
  "language_info": {
   "codemirror_mode": {
    "name": "ipython",
    "version": 3
   },
   "file_extension": ".py",
   "mimetype": "text/x-python",
   "name": "python",
   "nbconvert_exporter": "python",
   "pygments_lexer": "ipython3",
   "version": "3.9.13"
  }
 },
 "nbformat": 4,
 "nbformat_minor": 5
}
