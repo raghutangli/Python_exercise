{
 "cells": [
  {
   "cell_type": "markdown",
   "id": "4986cd2c",
   "metadata": {},
   "source": [
    "### 1.What are the two values of the Boolean data type? How do you write them?\n",
    "\n",
    "The two values of the Boolean data type in Python are True and False. These values represent the logical concepts of true and false, respectively.\n",
    "\n",
    "They written as: True or False. First letter of each value is capitalized."
   ]
  },
  {
   "cell_type": "markdown",
   "id": "b2b8446c",
   "metadata": {},
   "source": [
    "### 2. What are the three different types of Boolean operators?\n",
    "\n",
    "\n",
    "AND operator (and)\n",
    "\n",
    "OR operator (or)\n",
    "\n",
    "NOT operator (not)\n"
   ]
  },
  {
   "cell_type": "markdown",
   "id": "bd13bfd5",
   "metadata": {},
   "source": [
    "##|# 3. Make a list of each Boolean operators truth tables (i.e. every possible combination of Boolean values for the operator and what it evaluate ).\n",
    "\n",
    "And Operator:\n",
    "   \n",
    "   \n",
    " A--------------B-------------A and B\n",
    " \n",
    "True----------True-------------True\n",
    "\n",
    "False---------True-------------False\n",
    "\n",
    "True----------False------------False\n",
    "\n",
    "False---------False-----------False\n",
    "\n",
    "\n",
    "OR Operator:\n",
    "   \n",
    "   \n",
    " A--------------B-------------A and B\n",
    " \n",
    "True----------True-------------True\n",
    "\n",
    "False---------True-------------True\n",
    "\n",
    "True----------False------------True\n",
    "\n",
    "False---------False-----------False\n",
    "\n",
    "\n",
    "NOT Operator:\n",
    "\n",
    "input---------output\n",
    " \n",
    "True----------False\n",
    "\n",
    "False---------True"
   ]
  },
  {
   "cell_type": "markdown",
   "id": "eb467447",
   "metadata": {},
   "source": [
    "### 4. What are the values of the following expressions?\n",
    "\n",
    "(5 > 4) and (3 == 5) is False\n",
    "\n",
    "not (5 > 4) is False\n",
    "\n",
    "(5 > 4) and (3 == 5) is True\n",
    "\n",
    "not ((5 > 4) or (3 == 5)) is False\n",
    "\n",
    "(True and True) and (True == False) is False\n",
    "\n",
    "(not False) or (not True) is True"
   ]
  },
  {
   "cell_type": "markdown",
   "id": "77adea0b",
   "metadata": {},
   "source": [
    "### 5. What are the six comparison operators?\n",
    "\n",
    "1.Equal to (==)\n",
    "\n",
    "2.Not equal to (!=)\n",
    "\n",
    "3.Greater than (>)\n",
    "\n",
    "4.Greater than or equal to (>=)\n",
    "\n",
    "5.Less than (<)\n",
    "\n",
    "6.Less than or equal to (<=)"
   ]
  },
  {
   "cell_type": "markdown",
   "id": "a62495d8",
   "metadata": {},
   "source": [
    "### 6. How do you tell the difference between the equal to and assignment operators?Describe a condition and when you would use one.\n",
    "\n",
    "\n",
    "The equal to operator (==) is used to compare two values for equality, while the assignment operator (=) is used to assign a value to a variable.\n",
    "\n",
    "The difference between the two operators is that the equal to operator is a comparison operator that returns a Boolean value (true or false) depending on whether the two values being compared are equal or not. On the other hand, the assignment operator simply assigns a value to a variable."
   ]
  },
  {
   "cell_type": "markdown",
   "id": "57eca53f",
   "metadata": {},
   "source": [
    "### 8. Write code that prints Hello if 1 is stored in spam, prints Howdy if 2 is stored in spam, and prints Greetings! if anything else is stored in spam."
   ]
  },
  {
   "cell_type": "code",
   "execution_count": 12,
   "id": "8b1ca8da",
   "metadata": {},
   "outputs": [
    {
     "name": "stdout",
     "output_type": "stream",
     "text": [
      "Greetings!\n"
     ]
    }
   ],
   "source": [
    "spam = 0\n",
    "\n",
    "if spam == 1:\n",
    "    print('Hello')\n",
    "elif spam == 2:\n",
    "    print('Howdy')\n",
    "else:\n",
    "    print('Greetings!')"
   ]
  },
  {
   "cell_type": "markdown",
   "id": "74210749",
   "metadata": {},
   "source": [
    "### 9.If your programme is stuck in an endless loop, what keys you’ll press?\n",
    "\n",
    "Ctrl + C"
   ]
  },
  {
   "cell_type": "markdown",
   "id": "c779b9d9",
   "metadata": {},
   "source": [
    "### 10. How can you tell the difference between break and continue?\n",
    "\n",
    "Both break and continue are control flow statements in programming that allow you to alter the flow of a loop, but in different ways.\n",
    "\n",
    "break is used to immediately exit (or \"break out of\") a loop. When a break statement is executed, the loop is terminated and the program continues executing the next statement after the loop. This is useful when you want to terminate a loop prematurely based on a certain condition.\n",
    "\n",
    "On the other hand, continue is used to skip the current iteration of a loop and move on to the next iteration. When a continue statement is executed, the current iteration of the loop is terminated and the program continues with the next iteration of the loop. This is useful when you want to skip over certain values or conditions in a loop and continue iterating over the remaining values or conditions."
   ]
  },
  {
   "cell_type": "markdown",
   "id": "dea6dcb5",
   "metadata": {},
   "source": [
    "### 11. In a for loop, what is the difference between range(10), range(0, 10), and range(0, 10, 1)?\n",
    "\n",
    "all 3 cases gives same output.\n",
    "\n",
    "range() function takes 3 arguments start,stop and step\n",
    "\n",
    "range(10) generates a sequence of numbers starting from 0 up to, but not including, 10 with a step size of 1 (i.e., the default step size).\n",
    "\n",
    "range(0, 10) generates a sequence of numbers starting from 0 up to, but not including, 10 with a step size of 1.\n",
    "\n",
    "range(0, 10, 1) generates a sequence of numbers starting from 0 up to, but not including, 10 with a step size of 1."
   ]
  },
  {
   "cell_type": "markdown",
   "id": "0c8577f2",
   "metadata": {},
   "source": [
    "### 12. Write a short program that prints the numbers 1 to 10 using a for loop. Then write an equivalent program that prints the numbers 1 to 10 using a while loop.\n",
    "\n"
   ]
  },
  {
   "cell_type": "code",
   "execution_count": 18,
   "id": "2b8434d6",
   "metadata": {},
   "outputs": [
    {
     "name": "stdout",
     "output_type": "stream",
     "text": [
      "1 2 3 4 5 6 7 8 9 10 "
     ]
    }
   ],
   "source": [
    "for i in range(1,11):\n",
    "    print(i, end = \" \")"
   ]
  },
  {
   "cell_type": "code",
   "execution_count": 19,
   "id": "75202680",
   "metadata": {},
   "outputs": [
    {
     "name": "stdout",
     "output_type": "stream",
     "text": [
      "1 2 3 4 5 6 7 8 9 10 "
     ]
    }
   ],
   "source": [
    "i = 1\n",
    "while i<=10:\n",
    "    print(i, end = ' ')\n",
    "    i = i+1"
   ]
  },
  {
   "cell_type": "markdown",
   "id": "80340a40",
   "metadata": {},
   "source": [
    "### 13. If you had a function named bacon() inside a module named spam, how would you call it after importing spam?\n",
    "\n",
    "spam.bacon()"
   ]
  }
 ],
 "metadata": {
  "kernelspec": {
   "display_name": "Python 3 (ipykernel)",
   "language": "python",
   "name": "python3"
  },
  "language_info": {
   "codemirror_mode": {
    "name": "ipython",
    "version": 3
   },
   "file_extension": ".py",
   "mimetype": "text/x-python",
   "name": "python",
   "nbconvert_exporter": "python",
   "pygments_lexer": "ipython3",
   "version": "3.9.13"
  }
 },
 "nbformat": 4,
 "nbformat_minor": 5
}
