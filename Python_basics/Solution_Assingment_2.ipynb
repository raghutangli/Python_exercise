{
 "cells": [
  {
   "cell_type": "code",
   "execution_count": 3,
   "id": "7139ae38",
   "metadata": {},
   "outputs": [
    {
     "name": "stdout",
     "output_type": "stream",
     "text": [
      "20 kilometer is equal to 12.42742 miles\n"
     ]
    }
   ],
   "source": [
    "#1.\tWrite a Python program to convert kilometers to miles?\n",
    "\n",
    "#1kilometer is equal to 0.621371 miles\n",
    "\n",
    "def km_to_miles(km):\n",
    "    miles = km * 0.621371\n",
    "    return miles\n",
    "km = 20\n",
    "miles = km_to_miles(20)\n",
    "print(f\"{km} kilometer is equal to {miles} miles\")"
   ]
  },
  {
   "cell_type": "code",
   "execution_count": 5,
   "id": "dc00b1c9",
   "metadata": {},
   "outputs": [
    {
     "name": "stdout",
     "output_type": "stream",
     "text": [
      "60 celsius is equal to 140.0 fahrenheit\n"
     ]
    }
   ],
   "source": [
    "#2.\tWrite a Python program to convert Celsius to Fahrenheit?\n",
    "\n",
    "#formula to convert Celsius to Fahrenheit is (celsius*9/5)+32\n",
    "\n",
    "def c_to_f(celsius):\n",
    "    fahrenheit = (celsius * 9/5) + 32\n",
    "    return fahrenheit\n",
    "celsius = 60\n",
    "fahrenheit = c_to_f(celsius)\n",
    "print(f\"{celsius} celsius is equal to {fahrenheit} fahrenheit\")"
   ]
  },
  {
   "cell_type": "code",
   "execution_count": 9,
   "id": "2d4625fc",
   "metadata": {},
   "outputs": [
    {
     "name": "stdout",
     "output_type": "stream",
     "text": [
      "     March 2023\n",
      "Mo Tu We Th Fr Sa Su\n",
      "       1  2  3  4  5\n",
      " 6  7  8  9 10 11 12\n",
      "13 14 15 16 17 18 19\n",
      "20 21 22 23 24 25 26\n",
      "27 28 29 30 31\n",
      "\n"
     ]
    }
   ],
   "source": [
    "#3.\tWrite a Python program to display calendar?\n",
    "\n",
    "#Using calendar module here\n",
    "\n",
    "import calendar\n",
    "year = 2023\n",
    "month = 3\n",
    "print(calendar.month(year,month))"
   ]
  },
  {
   "cell_type": "code",
   "execution_count": 30,
   "id": "88a4349d",
   "metadata": {},
   "outputs": [
    {
     "name": "stdout",
     "output_type": "stream",
     "text": [
      "10\n",
      "20\n",
      "-3\n",
      "Real and different roots\n",
      "0.1401754250991379\n",
      "-2.1401754250991383\n"
     ]
    }
   ],
   "source": [
    "#4.\tWrite a Python program to solve quadratic equation?\n",
    "\n",
    "import math\n",
    "\n",
    "def Q_roots(a,b,c):\n",
    "        \n",
    "    d = b*b - 4 * a * c\n",
    "    squareroot = math.sqrt(abs(d))\n",
    "    \n",
    "    \n",
    "    if d > 0:\n",
    "        print(\"Real and different roots\")\n",
    "        print((-b+squareroot)/(2*a))\n",
    "        print((-b-squareroot)/(2*a))\n",
    "    \n",
    "    elif d == 0: \n",
    "        print(\" real and same roots\") \n",
    "        print(-b / (2 * a)) \n",
    "      \n",
    "    else:\n",
    "        print(\"Complex Roots\") \n",
    "        print(- b / (2 * a), \" + i\", squareroot) \n",
    "        print(- b / (2 * a), \" - i\", squareroot) \n",
    "\n",
    "\n",
    "a = float(input())\n",
    "b = float(input())\n",
    "c = float(input())\n",
    "  \n",
    "if a == 0: \n",
    "        print(\"Input correct quadratic equation\") \n",
    "  \n",
    "else:\n",
    "    Q_roots(a, b, c)\n",
    "    "
   ]
  },
  {
   "cell_type": "code",
   "execution_count": 34,
   "id": "5468dfe0",
   "metadata": {},
   "outputs": [
    {
     "name": "stdout",
     "output_type": "stream",
     "text": [
      "a = 50\n",
      "b = 20\n"
     ]
    }
   ],
   "source": [
    "#5.\tWrite a Python program to swap two variables without temp variable?\n",
    "\n",
    "a = 20\n",
    "b = 50\n",
    "\n",
    "a,b = b,a\n",
    "\n",
    "print(\"a =\",a)\n",
    "print(\"b =\",b)"
   ]
  }
 ],
 "metadata": {
  "kernelspec": {
   "display_name": "Python 3 (ipykernel)",
   "language": "python",
   "name": "python3"
  },
  "language_info": {
   "codemirror_mode": {
    "name": "ipython",
    "version": 3
   },
   "file_extension": ".py",
   "mimetype": "text/x-python",
   "name": "python",
   "nbconvert_exporter": "python",
   "pygments_lexer": "ipython3",
   "version": "3.9.13"
  }
 },
 "nbformat": 4,
 "nbformat_minor": 5
}
