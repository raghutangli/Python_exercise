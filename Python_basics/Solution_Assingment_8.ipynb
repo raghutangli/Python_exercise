{
 "cells": [
  {
   "cell_type": "code",
   "execution_count": 18,
   "id": "92c320b7",
   "metadata": {},
   "outputs": [
    {
     "name": "stdout",
     "output_type": "stream",
     "text": [
      "[9, 7, 7]\n",
      "[14, 5, 9]\n",
      "[6, 18, 4]\n"
     ]
    }
   ],
   "source": [
    "#1.\tWrite a Python Program to Add Two Matrices?\n",
    "\n",
    "a = [[2,5,7],\n",
    "     [8,4,1],\n",
    "     [6,9,0]]\n",
    "\n",
    "b = [[7,2,0],\n",
    "     [6,1,8],\n",
    "     [0,9,4]]\n",
    "\n",
    "result = [[0,0,0],\n",
    "          [0,0,0],\n",
    "          [0,0,0]]\n",
    "\n",
    "\n",
    "for i in range(len(a)):\n",
    "    for j in range(len(a[0])):\n",
    "        result[i][j] = a[i][j] + b[i][j]\n",
    "        \n",
    "for r in result:\n",
    "    print(r)\n",
    "     "
   ]
  },
  {
   "cell_type": "code",
   "execution_count": 23,
   "id": "6a1e5641",
   "metadata": {},
   "outputs": [
    {
     "name": "stdout",
     "output_type": "stream",
     "text": [
      "[30, 24, 18]\n",
      "[84, 69, 54]\n",
      "[138, 114, 90]\n"
     ]
    }
   ],
   "source": [
    "#2.\tWrite a Python Program to Multiply Two Matrices?\n",
    "\n",
    "X = [[1,2,3],\n",
    "     [4,5,6],\n",
    "     [7,8,9]]\n",
    "\n",
    "Y = [[9,8,7],\n",
    "     [6,5,4],\n",
    "     [3,2,1]]\n",
    "\n",
    "result = [[0,0,0],\n",
    "          [0,0,0],\n",
    "          [0,0,0]]\n",
    "\n",
    "for i in range(len(X)):\n",
    "    for j in range(len(Y[0])):\n",
    "        for k in range(len(Y)):\n",
    "            result[i][j] += X[i][k]*Y[k][j]\n",
    "            \n",
    "for r in result:\n",
    "    print(r)\n",
    "                      \n",
    "    "
   ]
  },
  {
   "cell_type": "code",
   "execution_count": 25,
   "id": "b3dfa647",
   "metadata": {},
   "outputs": [
    {
     "name": "stdout",
     "output_type": "stream",
     "text": [
      "[1, 3, 5]\n",
      "[2, 4, 6]\n"
     ]
    }
   ],
   "source": [
    "#3.\tWrite a Python Program to Transpose a Matrix?\n",
    "\n",
    "X = [[1,2],\n",
    "     [3,4],\n",
    "     [5,6]]\n",
    "\n",
    "result = [[0,0,0],\n",
    "          [0,0,0]]\n",
    "\n",
    "for i in range(len(X)):\n",
    "    for j in range(len(X[0])):\n",
    "        result[j][i] = X[i][j]\n",
    "        \n",
    "for r in result:\n",
    "    print(r)"
   ]
  },
  {
   "cell_type": "code",
   "execution_count": 33,
   "id": "38d3ba98",
   "metadata": {},
   "outputs": [
    {
     "name": "stdout",
     "output_type": "stream",
     "text": [
      "do\n",
      "nothing\n",
      "unless\n",
      "will\n",
      "work\n",
      "you\n"
     ]
    }
   ],
   "source": [
    "#4.\tWrite a Python Program to Sort Words in Alphabetic Order?\n",
    "\n",
    "str = \"nothing will work unless you do\"\n",
    "\n",
    "b_str = str.split()\n",
    "b_str.sort()\n",
    "\n",
    "for word in b_str:\n",
    "    print(word)"
   ]
  },
  {
   "cell_type": "code",
   "execution_count": 36,
   "id": "51f49213",
   "metadata": {},
   "outputs": [
    {
     "name": "stdout",
     "output_type": "stream",
     "text": [
      "Hello how are you\n"
     ]
    }
   ],
   "source": [
    "#5.\tWrite a Python Program to Remove Punctuation From a String?\n",
    "\n",
    "punctuations = '''!()-[]{};:'\"\\,<>./?@#$%^&*_~'''\n",
    "\n",
    "my_str = \"Hello!!!, <how--- are you!!!>.\"\n",
    "\n",
    "no_punct = \"\"\n",
    "for char in my_str:\n",
    "   if char not in punctuations:\n",
    "       no_punct = no_punct + char\n",
    "\n",
    "print(no_punct)"
   ]
  },
  {
   "cell_type": "code",
   "execution_count": null,
   "id": "46c51ab3",
   "metadata": {},
   "outputs": [],
   "source": []
  }
 ],
 "metadata": {
  "kernelspec": {
   "display_name": "Python 3 (ipykernel)",
   "language": "python",
   "name": "python3"
  },
  "language_info": {
   "codemirror_mode": {
    "name": "ipython",
    "version": 3
   },
   "file_extension": ".py",
   "mimetype": "text/x-python",
   "name": "python",
   "nbconvert_exporter": "python",
   "pygments_lexer": "ipython3",
   "version": "3.9.13"
  }
 },
 "nbformat": 4,
 "nbformat_minor": 5
}
