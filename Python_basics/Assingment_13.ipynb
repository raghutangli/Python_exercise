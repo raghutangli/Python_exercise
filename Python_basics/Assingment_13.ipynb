{
 "cells": [
  {
   "cell_type": "markdown",
   "id": "df512d4e",
   "metadata": {},
   "source": [
    "### 1. What advantages do Excel spreadsheets have over CSV spreadsheets?\n",
    "\n",
    "        Rich formatting: Excel allows for rich formatting options, such as the ability to apply different fonts, font\n",
    "        sizes, colors, borders, and other styling to cells and ranges of cells. This makes it easier to read and interpret\n",
    "        data in an Excel spreadsheet, and to create professional-looking reports and charts.\n",
    "\n",
    "        Formulas and functions: Excel includes a wide range of built-in formulas and functions that can be used to perform\n",
    "        calculations on data in the spreadsheet. This allows for more complex data analysis and modeling than is possible\n",
    "        with a CSV spreadsheet.\n",
    "\n",
    "        Charts and graphs: Excel provides a variety of chart and graph options that can be used to visualize data in the\n",
    "        spreadsheet. This can help to identify trends, patterns, and outliers in the data more easily than looking at a \n",
    "        large table of numbers in a CSV file.\n",
    "\n",
    "        Data validation and error checking: Excel includes features to help ensure data accuracy and consistency, such as \n",
    "        data validation rules that restrict the types of data that can be entered into a cell, and error checking options \n",
    "        that flag potential errors in formulas or data.\n",
    "\n",
    "        Multiple worksheets: Excel allows for multiple worksheets to be included in a single workbook, making it easier to\n",
    "        organize and analyze large datasets."
   ]
  },
  {
   "cell_type": "markdown",
   "id": "4cae7ace",
   "metadata": {},
   "source": [
    "### 2.What do you pass to csv.reader() and csv.writer() to create reader and writer objects?\n",
    "\n",
    "        In csv.writer() and csv.reader() we pass the fileobject which is a csv file to be written on/read."
   ]
  },
  {
   "cell_type": "markdown",
   "id": "23d4c544",
   "metadata": {},
   "source": [
    "### 3. What modes do File objects for reader and writer objects need to be opened in?\n",
    "\n"
   ]
  }
 ],
 "metadata": {
  "kernelspec": {
   "display_name": "Python 3 (ipykernel)",
   "language": "python",
   "name": "python3"
  },
  "language_info": {
   "codemirror_mode": {
    "name": "ipython",
    "version": 3
   },
   "file_extension": ".py",
   "mimetype": "text/x-python",
   "name": "python",
   "nbconvert_exporter": "python",
   "pygments_lexer": "ipython3",
   "version": "3.9.13"
  }
 },
 "nbformat": 4,
 "nbformat_minor": 5
}
