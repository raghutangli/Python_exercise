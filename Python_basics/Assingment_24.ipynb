{
 "cells": [
  {
   "cell_type": "markdown",
   "id": "cf07b7f4",
   "metadata": {},
   "source": [
    "### 1. What is the relationship between def statements and lambda expressions ?\n",
    "\n",
    "        A def statement is used to create a named function that can be called later in the program. It starts with the def\n",
    "        keyword, followed by the function name, a set of parentheses containing zero or more parameters, and a colon. The\n",
    "        function body is then indented and can contain any number of statements, including return statements to specify the\n",
    "        function's output.\n",
    "        \n",
    "        A lambda expression, on the other hand, is an anonymous function that can be defined in a single line of code. It\n",
    "        starts with the lambda keyword, followed by a set of parentheses containing the function's parameters (if any), a\n",
    "        colon, and the expression that the function should return. lambda expressions are often used in situations where a\n",
    "        small, simple function is needed, and defining a named function using def would be overly verbose."
   ]
  },
  {
   "cell_type": "markdown",
   "id": "cddb0ffe",
   "metadata": {},
   "source": [
    "### 2. What is the benefit of lambda?\n",
    "\n",
    "        Fewer Lines of Code\n",
    "        Lambda functions are inline functions and thus execute comparatively faster\n",
    "        Many times lambda functions make code much more readable by avoiding the logical jumps caused by function calls"
   ]
  },
  {
   "cell_type": "markdown",
   "id": "7c735767",
   "metadata": {},
   "source": [
    "### 3. Compare and contrast map, filter, and reduce.\n",
    "\n",
    "        map is a function that applies a given function to each element of an iterable and returns a new iterable with the\n",
    "        transformed values. The original iterable remains unchanged. The syntax of map is map(function, iterable).\n",
    "        \n",
    "        filter is a function that applies a given function to each element of an iterable and returns a new iterable \n",
    "        containing only the elements for which the function returns True. The original iterable remains unchanged. The \n",
    "        syntax of filter is filter(function, iterable).\n",
    "        \n",
    "        reduce is a function that applies a given function to the elements of an iterable in sequence, reducing them to a\n",
    "        single value. The syntax of reduce is reduce(function, iterable)."
   ]
  },
  {
   "cell_type": "markdown",
   "id": "97cb9658",
   "metadata": {},
   "source": [
    "### 4. What are function annotations, and how are they used?\n",
    "\n",
    "\n",
    "        Function annotation is the standard way to access the metadata with the arguments and the return value of the\n",
    "        function.These are nothing but some random and optional Python expressions that get allied to different parts of\n",
    "        the function.They get evaluated only during the compile-time and have no significance during the run-time of the\n",
    "        code.They do not have any significance or meaning associated with them until accessed by some third-party\n",
    "        libraries.They are used to type check the functions by declaring the type of the parameters and the return value\n",
    "        for the functions.The string-based annotations help us to improve the help messages.\n",
    "\n",
    "        Syntax :\n",
    "            def func(a: 'int') -> 'int':\n",
    "                pass\n",
    "\n",
    "        Annotations for simple parameters:\n",
    "            def func(x: 'float'=10.8, y: 'argument2'):\n",
    "                In the above code the argument, ‘x’ of the function func, \n",
    "                has been annotated to float data type and the argument ‘y’ \n",
    "                has a string-based annotation. The argument can also be \n",
    "                assigned to a default value using a ‘=’ symbol followed \n",
    "                by the default value. These default values are optional to the code.\n",
    "\n",
    "        Annotations for return values:\n",
    "            def func(a: expression) -> 'int':\n",
    "                The annotations for the return value is written after the ‘->’ symbol."
   ]
  },
  {
   "cell_type": "code",
   "execution_count": 1,
   "id": "d4ca7755",
   "metadata": {},
   "outputs": [
    {
     "name": "stdout",
     "output_type": "stream",
     "text": [
      "{'n': 'float', 'b': 'int', 'return': 'result'}\n"
     ]
    }
   ],
   "source": [
    "def fib(n:'float', b:'int')-> 'result': \n",
    "    pass\n",
    "print(fib.__annotations__)"
   ]
  },
  {
   "cell_type": "markdown",
   "id": "33de7c41",
   "metadata": {},
   "source": [
    "### 5. What are recursive functions, and how are they used?\n",
    "\n",
    "        A recursive function is a function that calls itself during its execution. \n",
    "        This means that the function will continue to call itself and repeat its behavior until some condition is met to\n",
    "        return a result"
   ]
  },
  {
   "cell_type": "code",
   "execution_count": 8,
   "id": "6780db65",
   "metadata": {},
   "outputs": [
    {
     "data": {
      "text/plain": [
       "6"
      ]
     },
     "execution_count": 8,
     "metadata": {},
     "output_type": "execute_result"
    }
   ],
   "source": [
    "def fact(x):\n",
    "    if x == 1 :\n",
    "        return 1\n",
    "    else :\n",
    "        return x * fact(x-1) # recurtion\n",
    "    \n",
    "fact(3)"
   ]
  },
  {
   "cell_type": "markdown",
   "id": "665bee6e",
   "metadata": {},
   "source": [
    "### 6. What are some general design guidelines for coding functions?\n",
    "\n",
    "        Keep functions simple and focused: A function should perform a single task or operation. It's best to avoid\n",
    "        creating large, complex functions that try to do too much. Instead, break down complex tasks into smaller, simpler\n",
    "        functions that are easier to manage and test.\n",
    "\n",
    "        Use clear and descriptive function names: Choose names that accurately describe the function's purpose and what it\n",
    "        does. This makes it easier to understand the code and what the function is intended to do.\n",
    "\n",
    "        Use function arguments and return values effectively: Functions should take in the necessary arguments and return a\n",
    "        clear value that reflects the function's output. Avoid relying on global variables, as this can make the code\n",
    "        harder to understand and test.\n",
    "\n",
    "        Limit side effects: A function should not change any state outside of its scope. Side effects can create hidden\n",
    "        dependencies and make it harder to reason about the code.\n",
    "\n",
    "        Follow the principle of least privilege: Functions should only have access to the data and resources they need to \n",
    "        perform their tasks. This helps to reduce the risk of unintended consequences or security issues.\n",
    "\n",
    "        Avoid hard-coding values: Instead of hard-coding values, pass them in as arguments or define them as constants.\n",
    "        This makes the code more flexible and easier to maintain.\n",
    "\n",
    "        Document your functions: Use clear and concise documentation to describe the function's purpose, inputs, outputs,\n",
    "        and any important details. This helps others understand and use your code effectively."
   ]
  },
  {
   "cell_type": "markdown",
   "id": "d916a413",
   "metadata": {},
   "source": [
    "### 7. Name three or more ways that functions can communicate results to a caller.\n",
    "\n",
    "        Return statement: The return statement allows a function to send a value back to the caller. The value can be of\n",
    "        any data type, such as integers, strings, lists, or objects.\n",
    "\n",
    "        Output parameters: Output parameters allow a function to modify a variable passed in by the caller. This can be\n",
    "        useful when a function needs to update multiple values or when the return value alone is not enough to convey all\n",
    "        the necessary information.\n",
    "\n",
    "        Exceptions: Functions can raise exceptions to signal errors or unexpected conditions. This allows the caller to\n",
    "        handle the exception and take appropriate action.\n",
    "\n",
    "        Global variables: Functions can also modify global variables to communicate results to the caller. However, this\n",
    "        approach should be used sparingly as it can create hidden dependencies and make the code harder to understand and\n",
    "        maintain.\n",
    "\n",
    "        Printing to console: Functions can print output to the console to communicate results to the caller. This can be\n",
    "        useful for debugging purposes, but it is not the best approach for returning data that the caller can use directly."
   ]
  }
 ],
 "metadata": {
  "kernelspec": {
   "display_name": "Python 3 (ipykernel)",
   "language": "python",
   "name": "python3"
  },
  "language_info": {
   "codemirror_mode": {
    "name": "ipython",
    "version": 3
   },
   "file_extension": ".py",
   "mimetype": "text/x-python",
   "name": "python",
   "nbconvert_exporter": "python",
   "pygments_lexer": "ipython3",
   "version": "3.9.13"
  }
 },
 "nbformat": 4,
 "nbformat_minor": 5
}
