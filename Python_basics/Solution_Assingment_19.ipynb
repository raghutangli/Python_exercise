{
 "cells": [
  {
   "cell_type": "markdown",
   "id": "02b14667",
   "metadata": {},
   "source": [
    "# Question1\n",
    "Create a function that takes a string and returns a string in which each character is repeated once.\n",
    "\n",
    "Examples\n",
    "\n",
    "double_char('String') ➞ 'SSttrriinngg'\n",
    "\n",
    "double_char('Hello World!') ➞ 'HHeelllloo WWoorrlldd!!'\n",
    "\n",
    "double_char('1234!_ ') ➞ '11223344!!__ '"
   ]
  },
  {
   "cell_type": "code",
   "execution_count": 4,
   "id": "57401b60",
   "metadata": {},
   "outputs": [
    {
     "data": {
      "text/plain": [
       "'HHeelllloo  WWoorrlldd!!'"
      ]
     },
     "execution_count": 4,
     "metadata": {},
     "output_type": "execute_result"
    }
   ],
   "source": [
    "def double_characters(str):\n",
    "    new_string = \"\"\n",
    "    \n",
    "    for char in str:\n",
    "        new_string += char * 2\n",
    "    \n",
    "    return new_string\n",
    "\n",
    "double_characters('Hello World!')"
   ]
  },
  {
   "cell_type": "markdown",
   "id": "e3203ce9",
   "metadata": {},
   "source": [
    "# Question2\n",
    "Create a function that reverses a boolean value and returns the string \"boolean expected\" if another variable type is given.\n",
    "\n",
    "Examples\n",
    "\n",
    "reverse(True) ➞ False\n",
    "\n",
    "reverse(False) ➞ True\n",
    "\n",
    "reverse(0) ➞ 'boolean expected'\n",
    "\n",
    "reverse(None) ➞ 'boolean expected'\n"
   ]
  },
  {
   "cell_type": "code",
   "execution_count": 9,
   "id": "d0a50316",
   "metadata": {},
   "outputs": [
    {
     "data": {
      "text/plain": [
       "'boolean expected'"
      ]
     },
     "execution_count": 9,
     "metadata": {},
     "output_type": "execute_result"
    }
   ],
   "source": [
    "def reverse_boolean(value):\n",
    "    if type(value) is not bool:\n",
    "        return 'boolean expected'\n",
    "\n",
    "    return not value\n",
    "\n",
    "reverse_boolean(None)"
   ]
  },
  {
   "cell_type": "markdown",
   "id": "5197583c",
   "metadata": {},
   "source": [
    "# Question3\n",
    "Create a function that returns the thickness (in meters) of a piece of paper after folding it nnumber of times. The paper starts off with a thickness of 0.5mm.\n",
    "\n",
    "Examples\n",
    "\n",
    "num_layers(1) ➞ '0.001m'\n",
    "\n",
    "Paper folded once is 1mm (equal to 0.001m)\n",
    "\n",
    "num_layers(4) ➞ '0.008m'\n",
    "\n",
    "Paper folded 4 times is 8mm (equal to 0.008m)\n",
    "\n",
    "num_layers(21) ➞ '1048.576m'\n",
    "\n",
    "Paper folded 21 times is 1048576mm (equal to 1048.576m)"
   ]
  },
  {
   "cell_type": "code",
   "execution_count": 18,
   "id": "18c17742",
   "metadata": {},
   "outputs": [
    {
     "name": "stdout",
     "output_type": "stream",
     "text": [
      "21\n",
      "Paper folded 21 times is 1048.576 meter\n"
     ]
    }
   ],
   "source": [
    "def num_layers(n):\n",
    "    thickness = 0.5 / 1000\n",
    "    for i in range(n):\n",
    "        thickness *= 2\n",
    "\n",
    "    return thickness\n",
    "\n",
    "n = int(input())\n",
    "print(f\"Paper folded {n} times is {num_layers(n)} meter\")"
   ]
  },
  {
   "cell_type": "markdown",
   "id": "9ee25dee",
   "metadata": {},
   "source": [
    "# Question4\n",
    "Create a function that takes a single string as argument and returns an ordered list containing the indices of all capital letters in the string.\n",
    "\n",
    "Examples\n",
    "\n",
    "index_of_caps('eDaBiT') ➞ [1, 3, 5]\n",
    "\n",
    "index_of_caps('eQuINoX') ➞ [1, 3, 4, 6]\n",
    "\n",
    "index_of_caps('determine') ➞ []\n",
    "\n",
    "index_of_caps('STRIKE') ➞ [0, 1, 2, 3, 4, 5]\n",
    "\n",
    "index_of_caps('sUn') ➞ [1]"
   ]
  },
  {
   "cell_type": "code",
   "execution_count": 21,
   "id": "c3f48b01",
   "metadata": {},
   "outputs": [
    {
     "data": {
      "text/plain": [
       "[1, 3, 4, 6]"
      ]
     },
     "execution_count": 21,
     "metadata": {},
     "output_type": "execute_result"
    }
   ],
   "source": [
    "def index_of_caps(s):\n",
    "    indexes = []\n",
    "    \n",
    "    for ele in range(len(s)):\n",
    "        if s[ele].isupper():\n",
    "            indexes.append(ele)\n",
    "    return indexes\n",
    "\n",
    "index_of_caps('eQuINoX')"
   ]
  },
  {
   "cell_type": "markdown",
   "id": "e0e3afe4",
   "metadata": {},
   "source": [
    "# Question5\n",
    "Using list comprehensions, create a function that finds all even numbers from 1 to the given number.\n",
    "\n",
    "Examples\n",
    "\n",
    "find_even_nums(8) ➞ [2, 4, 6, 8]\n",
    "\n",
    "find_even_nums(4) ➞ [2, 4]\n",
    "\n",
    "find_even_nums(2) ➞ [2]"
   ]
  },
  {
   "cell_type": "code",
   "execution_count": 30,
   "id": "c9f0220f",
   "metadata": {},
   "outputs": [
    {
     "name": "stdout",
     "output_type": "stream",
     "text": [
      "Enter a number : 15\n"
     ]
    },
    {
     "data": {
      "text/plain": [
       "[2, 4, 6, 8, 10, 12, 14]"
      ]
     },
     "execution_count": 30,
     "metadata": {},
     "output_type": "execute_result"
    }
   ],
   "source": [
    "def find_even_nums(n):\n",
    "    even = [i for i in range(1,n+1) if i%2 == 0]\n",
    "    return even\n",
    "n = int(input('Enter a number : '))\n",
    "find_even_nums(n)          "
   ]
  }
 ],
 "metadata": {
  "kernelspec": {
   "display_name": "Python 3 (ipykernel)",
   "language": "python",
   "name": "python3"
  },
  "language_info": {
   "codemirror_mode": {
    "name": "ipython",
    "version": 3
   },
   "file_extension": ".py",
   "mimetype": "text/x-python",
   "name": "python",
   "nbconvert_exporter": "python",
   "pygments_lexer": "ipython3",
   "version": "3.9.13"
  }
 },
 "nbformat": 4,
 "nbformat_minor": 5
}
