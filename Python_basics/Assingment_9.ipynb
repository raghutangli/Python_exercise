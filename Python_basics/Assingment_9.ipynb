{
 "cells": [
  {
   "cell_type": "markdown",
   "id": "4655407b",
   "metadata": {},
   "source": [
    "### 1. To what does a relative path refer?\n",
    "\n",
    "        Relative path specifies the location of a file or directory relative to the location of the current working\n",
    "        directory, rather than an absolute path that specifies the complete path from the root directory of the file\n",
    "        system."
   ]
  },
  {
   "cell_type": "markdown",
   "id": "01ba2da3",
   "metadata": {},
   "source": [
    "### 2. What does an absolute path start with your operating system?\n",
    "\n",
    "        An absolute path in an operating system typically starts with the root directory of the file system. The root\n",
    "        directory is the top-most directory in the file system hierarchy."
   ]
  },
  {
   "cell_type": "markdown",
   "id": "58c56f74",
   "metadata": {},
   "source": [
    "### 3. What do the functions os.getcwd() and os.chdir() do?\n",
    "\n",
    "        The os.getcwd() function returns the current working directory (CWD) of the Python process. The current working \n",
    "        directory is the directory from which the Python script is currently running.\n",
    "        \n",
    "        os.chdir(): The os.chdir() function is used to change the current working directory of the Python process to the\n",
    "        directory specified as an argument."
   ]
  },
  {
   "cell_type": "markdown",
   "id": "a4c149b6",
   "metadata": {},
   "source": [
    "### 4. What are the . and .. folders?\n",
    "\n",
    "        . (dot) represents the current directory.\n",
    "        \n",
    "        .. (dot-dot) represents the parent directory of the current directory."
   ]
  },
  {
   "cell_type": "markdown",
   "id": "a684c28c",
   "metadata": {},
   "source": [
    "### 5. In C:\\bacon\\eggs\\spam.txt, which part is the dir name, and which part is the base name?\n",
    "\n",
    "        The basename is the final rightmost segment of the file path . In the above path base name is spam.txt.(spam.txt)\n",
    "        \n",
    "        dir name is th folder name in which file exists.(C:\\bacon\\eggs)"
   ]
  },
  {
   "cell_type": "code",
   "execution_count": 12,
   "id": "075ac95f",
   "metadata": {},
   "outputs": [
    {
     "data": {
      "text/plain": [
       "'spam.txt'"
      ]
     },
     "execution_count": 12,
     "metadata": {},
     "output_type": "execute_result"
    }
   ],
   "source": [
    "os.path.basename('C:\\bacon\\eggs\\spam.txt') "
   ]
  },
  {
   "cell_type": "code",
   "execution_count": 13,
   "id": "1471ad95",
   "metadata": {},
   "outputs": [
    {
     "data": {
      "text/plain": [
       "'C:\\x08acon\\\\eggs'"
      ]
     },
     "execution_count": 13,
     "metadata": {},
     "output_type": "execute_result"
    }
   ],
   "source": [
    "os.path.dirname('C:\\bacon\\eggs\\spam.txt')"
   ]
  },
  {
   "cell_type": "markdown",
   "id": "867842ab",
   "metadata": {},
   "source": [
    "### 6. What are the three “mode” arguments that can be passed to the open() function?\n",
    "\n",
    "        r (read mode): This mode is used to open a file for reading. If the file doesn't exist, it will raise a \n",
    "        FileNotFoundError. This is the default mode if no mode is specified.\n",
    "\n",
    "        w (write mode): This mode is used to open a file for writing. If the file already exists, it will be truncated to\n",
    "        zero length. If the file doesn't exist, it will be created.\n",
    "\n",
    "        a (append mode): This mode is used to open a file for appending data to the end of the file. If the file doesn't \n",
    "        exist, it will be created."
   ]
  },
  {
   "cell_type": "markdown",
   "id": "5767f524",
   "metadata": {},
   "source": [
    "### 7. What happens if an existing file is opened in write mode?\n",
    "\n",
    "        If an existing file is opened in write mode using the open() function in Python, the contents of the file will be\n",
    "        truncated to zero length, which means that all of the existing content in the file will be deleted. Any data \n",
    "        written to the file using the write() method will overwrite the previous content."
   ]
  },
  {
   "cell_type": "markdown",
   "id": "b27853f7",
   "metadata": {},
   "source": [
    "### 8. How do you tell the difference between read() and readlines()?\n",
    "\n",
    "        The difference between them is that read() reads the entire contents of the file as a single string, while \n",
    "        readlines() reads the contents of the file line by line and returns a list of strings, with each string \n",
    "        representing a single line of the file."
   ]
  },
  {
   "cell_type": "markdown",
   "id": "def28ca4",
   "metadata": {},
   "source": [
    "### 9. What data structure does a shelf value resemble?\n",
    "\n",
    "        A shelf value in Python resembles a dictionary object, as it has keys and values, and supports operations like \n",
    "        len(), del, and iteration."
   ]
  }
 ],
 "metadata": {
  "kernelspec": {
   "display_name": "Python 3 (ipykernel)",
   "language": "python",
   "name": "python3"
  },
  "language_info": {
   "codemirror_mode": {
    "name": "ipython",
    "version": 3
   },
   "file_extension": ".py",
   "mimetype": "text/x-python",
   "name": "python",
   "nbconvert_exporter": "python",
   "pygments_lexer": "ipython3",
   "version": "3.9.13"
  }
 },
 "nbformat": 4,
 "nbformat_minor": 5
}
