{
 "cells": [
  {
   "cell_type": "code",
   "execution_count": 4,
   "id": "6879abdc",
   "metadata": {},
   "outputs": [
    {
     "data": {
      "text/plain": [
       "200"
      ]
     },
     "execution_count": 4,
     "metadata": {},
     "output_type": "execute_result"
    }
   ],
   "source": [
    "#1.\tWrite a Python Program to find sum of array?\n",
    "\n",
    "\n",
    "l1 = [20,40,60,80]\n",
    "\n",
    "def sum_array(l1):\n",
    "    sum = 0\n",
    "    for i in l1:\n",
    "        sum+=i\n",
    "    return sum\n",
    "\n",
    "sum_array(l1)"
   ]
  },
  {
   "cell_type": "code",
   "execution_count": 16,
   "id": "63d861a8",
   "metadata": {},
   "outputs": [
    {
     "data": {
      "text/plain": [
       "100"
      ]
     },
     "execution_count": 16,
     "metadata": {},
     "output_type": "execute_result"
    }
   ],
   "source": [
    "#2.\tWrite a Python Program to find largest element in an array?\n",
    "\n",
    "l2 = [20,40,60,80,10,100]\n",
    "\n",
    "def large_element(l2):\n",
    "    large_array = 0\n",
    "    for i in range(0,len(l2)):\n",
    "        if l2[i] > large_array:\n",
    "            large_array = l2[i]\n",
    "    return large_array\n",
    "\n",
    "large_element(l2)"
   ]
  },
  {
   "cell_type": "code",
   "execution_count": 11,
   "id": "d23c726c",
   "metadata": {},
   "outputs": [
    {
     "name": "stdout",
     "output_type": "stream",
     "text": [
      "[3, 4, 5, 1, 2]\n"
     ]
    }
   ],
   "source": [
    "#3.\tWrite a Python Program for array rotation?\n",
    "\n",
    "def rotate_array(arr, k):\n",
    "    n = len(arr)\n",
    "    k = k % n\n",
    "    arr[:] = arr[n-k:] + arr[:n-k]\n",
    "    return arr\n",
    "\n",
    "arr = [1, 2, 3, 4, 5]\n",
    "k = 3\n",
    "print(rotate_array(arr, k))"
   ]
  },
  {
   "cell_type": "code",
   "execution_count": 27,
   "id": "4cc1e684",
   "metadata": {},
   "outputs": [
    {
     "name": "stdout",
     "output_type": "stream",
     "text": [
      "[4, 5, 6, 7, 1, 2, 3]\n"
     ]
    }
   ],
   "source": [
    "#4.\tWrite a Python Program to Split the array and add the first part to the end?\n",
    "\n",
    "def split_array(arr,k):\n",
    "    n = len(arr)\n",
    "    k = (n//2)\n",
    "    return arr[k:] + arr[:k]\n",
    "\n",
    "arr = [1, 2, 3, 4, 5, 6, 7]\n",
    "print(split_array(arr, k))"
   ]
  },
  {
   "cell_type": "code",
   "execution_count": 31,
   "id": "11788389",
   "metadata": {},
   "outputs": [
    {
     "data": {
      "text/plain": [
       "True"
      ]
     },
     "execution_count": 31,
     "metadata": {},
     "output_type": "execute_result"
    }
   ],
   "source": [
    "#5.\tWrite a Python Program to check if given array is Monotonic?\n",
    "\n",
    "def is_monotonic(arr):\n",
    "    increasing = decreasing = True\n",
    "    \n",
    "    for i in range(1, len(arr)):\n",
    "        if arr[i] > arr[i-1]:\n",
    "            decreasing = False\n",
    "        elif arr[i] < arr[i-1]:\n",
    "            increasing = False\n",
    "    \n",
    "    return increasing or decreasing\n",
    "\n",
    "arr = [5, 4, 3, 2, 1]\n",
    "is_monotonic(arr)"
   ]
  }
 ],
 "metadata": {
  "kernelspec": {
   "display_name": "Python 3 (ipykernel)",
   "language": "python",
   "name": "python3"
  },
  "language_info": {
   "codemirror_mode": {
    "name": "ipython",
    "version": 3
   },
   "file_extension": ".py",
   "mimetype": "text/x-python",
   "name": "python",
   "nbconvert_exporter": "python",
   "pygments_lexer": "ipython3",
   "version": "3.9.13"
  }
 },
 "nbformat": 4,
 "nbformat_minor": 5
}
