{
 "cells": [
  {
   "cell_type": "markdown",
   "id": "44c90a25",
   "metadata": {},
   "source": [
    "### 1) . What is the difference between enclosing a list comprehension in square brackets and parentheses?\n",
    "\n",
    "        List Comprehension with square brackets produces list.\n",
    "        List Comprehension with parentheses creates generators"
   ]
  },
  {
   "cell_type": "code",
   "execution_count": 3,
   "id": "92e9f247",
   "metadata": {
    "scrolled": true
   },
   "outputs": [
    {
     "data": {
      "text/plain": [
       "[0, 1, 4, 9, 16]"
      ]
     },
     "execution_count": 3,
     "metadata": {},
     "output_type": "execute_result"
    }
   ],
   "source": [
    "squares_1 = [x**2 for x in range(5)]\n",
    "squares_1"
   ]
  },
  {
   "cell_type": "code",
   "execution_count": 4,
   "id": "af19dd19",
   "metadata": {
    "scrolled": false
   },
   "outputs": [
    {
     "data": {
      "text/plain": [
       "<generator object <genexpr> at 0x000001B1AA9C8510>"
      ]
     },
     "execution_count": 4,
     "metadata": {},
     "output_type": "execute_result"
    }
   ],
   "source": [
    "squares_2 = (x**2 for x in range(5))\n",
    "squares_2"
   ]
  },
  {
   "cell_type": "markdown",
   "id": "e56c69a3",
   "metadata": {},
   "source": [
    "### 2) What is the relationship between generators and iterators?\n",
    "\n",
    "        An iterator is an object which contains a countable number of values and it is used to iterate over iterable\n",
    "        objects like list, tuples etc\n",
    "        Using an iterator-\n",
    "        iter() keyword is used to create an iterator containing an iterable object.\n",
    "        next() keyword is used to call the next element in the iterable object.\n",
    "\n",
    "        Generator\n",
    "        It is another way of creating iterators in a simple way where it uses the keyword “yield” instead of returning it\n",
    "        in a defined function\n",
    "        Generators are implemented using a function\n",
    "        Here, the yield function returns the data without affecting or exiting the function. \n",
    "        It will return a sequence of data in an iterable format where we need to iterate over the sequence to use the data\n",
    "        as they won’t store the entire sequence in the memory\n",
    "        By using next() function we can iterate the output of generator function"
   ]
  },
  {
   "cell_type": "code",
   "execution_count": 5,
   "id": "31bb414b",
   "metadata": {
    "scrolled": true
   },
   "outputs": [
    {
     "name": "stdout",
     "output_type": "stream",
     "text": [
      "Apple\n",
      "Orange\n",
      "Banana\n"
     ]
    }
   ],
   "source": [
    "# iterator\n",
    "iter_list = iter(['Apple', 'Orange', 'Banana'])\n",
    "print(next(iter_list))\n",
    "print(next(iter_list))\n",
    "print(next(iter_list))"
   ]
  },
  {
   "cell_type": "code",
   "execution_count": 6,
   "id": "48e0be1c",
   "metadata": {},
   "outputs": [],
   "source": [
    "# GEnerator \n",
    "\n",
    "def sq_numbers(n):\n",
    "    for i in range(1, n+1):\n",
    "        yield i*i"
   ]
  },
  {
   "cell_type": "code",
   "execution_count": 7,
   "id": "93fed791",
   "metadata": {},
   "outputs": [
    {
     "data": {
      "text/plain": [
       "<generator object sq_numbers at 0x000001B1AA9C8DD0>"
      ]
     },
     "execution_count": 7,
     "metadata": {},
     "output_type": "execute_result"
    }
   ],
   "source": [
    "sq_numbers(8)"
   ]
  },
  {
   "cell_type": "code",
   "execution_count": 8,
   "id": "9caca0e2",
   "metadata": {},
   "outputs": [],
   "source": [
    "lst = sq_numbers(8)"
   ]
  },
  {
   "cell_type": "code",
   "execution_count": 9,
   "id": "9d1fe270",
   "metadata": {
    "scrolled": true
   },
   "outputs": [
    {
     "name": "stdout",
     "output_type": "stream",
     "text": [
      "1\n",
      "4\n",
      "9\n",
      "16\n"
     ]
    }
   ],
   "source": [
    "print(next(lst))\n",
    "print(next(lst))\n",
    "print(next(lst))\n",
    "print(next(lst))"
   ]
  },
  {
   "cell_type": "markdown",
   "id": "399de807",
   "metadata": {},
   "source": [
    "### 3) What are the signs that a function is a generator function?\n",
    "\n",
    "        If a function contains at least one yield statement (it may contain other yield or return statements), it becomes a\n",
    "        generator function. Both yield and return will return some value from a function.\n"
   ]
  },
  {
   "cell_type": "markdown",
   "id": "83f9bd6a",
   "metadata": {},
   "source": [
    "### 4) What is the purpose of a yield statement?\n",
    "\n",
    "        A yield statement looks much like a return statement, except that instead of stopping execution of the function and \n",
    "        returning, yield instead provides a value to the code looping over the generator and pauses execution of the\n",
    "        generator function"
   ]
  },
  {
   "cell_type": "markdown",
   "id": "8a1f5988",
   "metadata": {},
   "source": [
    "### 5) What is the relationship between map calls and list comprehensions? Make a comparison and contrast between the two.\n",
    "\n",
    "        Map function:\n",
    "        Suppose we have a function and we want to compute this function for different values in a single line of code . \n",
    "        This is where map() function plays its role. map() function returns a map object(which is an iterator) of the\n",
    "        results after applying the given function to each item of a given iterable (list, tuple etc.)\n",
    "\n",
    "        If we already have a function defined, it is often good to use map For example, map(sum, myLists) is more neat than\n",
    "        [sum(x) for x in myLists]. You gain the elegance of not having to make up a dummy variable (e.g. sum(x) for x... or\n",
    "        sum(_) for _... or sum(readableName) for readableName...) which you have to type twice, just to iterate.\n",
    "\n",
    "        List Comprehension:\n",
    "        List Comprehension is a substitute for the lambda function, map(), filter() and reduce()\n",
    "\n",
    "\n",
    "        Comparision :\n",
    "            1. List comprehension is more concise and easier to read as compared to map\n",
    "            2. List comprehension allows filtering. In map, we have no such facility\n",
    "            For example, to print all even numbers in range of 100, we can write [n for n in range(100) if n%2 == 0]. There\n",
    "            is no alternate for it in map\n",
    "            3. List comprehension are used when a list of results is required, where as map only returns a map object and\n",
    "            does not return any list.\n",
    "            4. List comprehension is faster than map when we need to evaluate expressions that are too long or complicated \n",
    "            to express\n",
    "            5. Map is faster in case of calling an already defined function (as no lambda is required)"
   ]
  }
 ],
 "metadata": {
  "kernelspec": {
   "display_name": "Python 3 (ipykernel)",
   "language": "python",
   "name": "python3"
  },
  "language_info": {
   "codemirror_mode": {
    "name": "ipython",
    "version": 3
   },
   "file_extension": ".py",
   "mimetype": "text/x-python",
   "name": "python",
   "nbconvert_exporter": "python",
   "pygments_lexer": "ipython3",
   "version": "3.9.13"
  }
 },
 "nbformat": 4,
 "nbformat_minor": 5
}
