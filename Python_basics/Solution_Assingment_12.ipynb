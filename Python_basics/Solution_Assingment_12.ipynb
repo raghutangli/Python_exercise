{
 "cells": [
  {
   "cell_type": "code",
   "execution_count": 1,
   "id": "d4af2bcb",
   "metadata": {},
   "outputs": [
    {
     "name": "stdout",
     "output_type": "stream",
     "text": [
      "unique value from dictionry values are : {1, 2, 5, 6, 7, 8, 10, 11, 12}\n"
     ]
    }
   ],
   "source": [
    "#1.\tWrite a Python program to Extract Unique values dictionary values?\n",
    "\n",
    "dict_1 = {'a' : [5, 6, 7, 8],\n",
    "        'b' : [10, 11, 7, 5],\n",
    "        'c' : [6, 12, 10, 8],\n",
    "        'd' : [1, 2, 5,8]}\n",
    "\n",
    "unique_values = set([ele for val in dict_1.values() for ele in val])\n",
    "print(\"unique value from dictionry values are : {}\".format(unique_values))"
   ]
  },
  {
   "cell_type": "code",
   "execution_count": 4,
   "id": "ab1f7d3c",
   "metadata": {},
   "outputs": [
    {
     "name": "stdout",
     "output_type": "stream",
     "text": [
      "Sum of all items is : 36\n"
     ]
    }
   ],
   "source": [
    "#2.\tWrite a Python program to find the sum of all items in a dictionary?\n",
    "\n",
    "dict_2 = {'a' : 8,\n",
    "          'b' : 11,\n",
    "          'c' : 12,\n",
    "          'd' : 5}\n",
    "\n",
    "sum = 0\n",
    "for i in dict_2.values():\n",
    "    sum += i\n",
    "print(\"Sum of all items is : {}\".format(sum))"
   ]
  },
  {
   "cell_type": "code",
   "execution_count": 5,
   "id": "57201a32",
   "metadata": {},
   "outputs": [
    {
     "name": "stdout",
     "output_type": "stream",
     "text": [
      "{2: 'b', 4: 'd', 1: 'a'}\n"
     ]
    }
   ],
   "source": [
    "#3.\tWrite a Python program to Merging two Dictionaries?\n",
    "\n",
    "dict_a = {1: 'a', 2: 'b'}\n",
    "dict_b = {2: 'c', 4: 'd'}\n",
    "\n",
    "dict_c = dict_b.copy()\n",
    "dict_c.update(dict_a)\n",
    "\n",
    "print(dict_c)"
   ]
  },
  {
   "cell_type": "code",
   "execution_count": 7,
   "id": "35027e4c",
   "metadata": {},
   "outputs": [
    {
     "name": "stdout",
     "output_type": "stream",
     "text": [
      "{1: 'a', 2: 'c', 4: 'd'}\n"
     ]
    }
   ],
   "source": [
    "dict_1 = {1: 'a', 2: 'b'}\n",
    "dict_2 = {2: 'c', 4: 'd'}\n",
    "\n",
    "print(dict_1 | dict_2)"
   ]
  },
  {
   "cell_type": "code",
   "execution_count": 8,
   "id": "534e2228",
   "metadata": {},
   "outputs": [
    {
     "name": "stdout",
     "output_type": "stream",
     "text": [
      "{'key1': 'value1', 'key2': 'value2', 'key3': 'value3'}\n"
     ]
    }
   ],
   "source": [
    "#4.\tWrite a Python program to convert key-values list to flat dictionary?\n",
    "\n",
    "key_values = [(\"key1\", \"value1\"), (\"key2\", \"value2\"), (\"key3\", \"value3\")]\n",
    "\n",
    "flat_dict = {}\n",
    "\n",
    "for key, value in key_values:\n",
    "    flat_dict[key] = value\n",
    "\n",
    "print(flat_dict)"
   ]
  },
  {
   "cell_type": "code",
   "execution_count": 17,
   "id": "7567b685",
   "metadata": {},
   "outputs": [
    {
     "name": "stdout",
     "output_type": "stream",
     "text": [
      "Original OrderedDict:  OrderedDict([('a', 1), ('b', 2), ('c', 3)])\n",
      "OrderedDict after inserting 'd' at the beginning:  OrderedDict([('d', 4), ('a', 1), ('b', 2), ('c', 3)])\n"
     ]
    }
   ],
   "source": [
    "#5.\tWrite a Python program to insertion at the beginning in OrderedDict?\n",
    "\n",
    "from collections import OrderedDict\n",
    "\n",
    "od = OrderedDict([('a', 1), ('b', 2), ('c', 3)])\n",
    "print(\"Original OrderedDict: \", od)\n",
    "od.update({'d':4})\n",
    "od.move_to_end('d', last=False)\n",
    "print(\"OrderedDict after inserting 'd' at the beginning: \", od)\n"
   ]
  },
  {
   "cell_type": "code",
   "execution_count": 31,
   "id": "c2808283",
   "metadata": {},
   "outputs": [
    {
     "name": "stdout",
     "output_type": "stream",
     "text": [
      "{'apple': 3, 'banana': 1, 'orange': 2, 'pear': 4}\n"
     ]
    }
   ],
   "source": [
    "#7.\tWrite a Python program to sort Python Dictionaries by Key or Value?\n",
    "\n",
    "my_dict = {'apple': 3, 'orange': 2, 'banana': 1, 'pear': 4}\n",
    "\n",
    "sorted_dict = dict(sorted(my_dict.items()))\n",
    "\n",
    "print(sorted_dict)\n"
   ]
  },
  {
   "cell_type": "code",
   "execution_count": 35,
   "id": "6c8092c2",
   "metadata": {},
   "outputs": [
    {
     "name": "stdout",
     "output_type": "stream",
     "text": [
      "{'banana': 1, 'orange': 2, 'apple': 3, 'pear': 4}\n"
     ]
    }
   ],
   "source": [
    "my_dict = {'apple': 3, 'orange': 2, 'banana': 1, 'pear': 4}\n",
    "\n",
    "sorted_dict = dict(sorted(my_dict.items(), key=lambda item: item[1]))\n",
    "\n",
    "print(sorted_dict)\n"
   ]
  }
 ],
 "metadata": {
  "kernelspec": {
   "display_name": "Python 3 (ipykernel)",
   "language": "python",
   "name": "python3"
  },
  "language_info": {
   "codemirror_mode": {
    "name": "ipython",
    "version": 3
   },
   "file_extension": ".py",
   "mimetype": "text/x-python",
   "name": "python",
   "nbconvert_exporter": "python",
   "pygments_lexer": "ipython3",
   "version": "3.9.13"
  }
 },
 "nbformat": 4,
 "nbformat_minor": 5
}
