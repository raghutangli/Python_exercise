{
 "cells": [
  {
   "cell_type": "markdown",
   "id": "8b269ad2",
   "metadata": {},
   "source": [
    "### 1. How do you distinguish between shutil.copy() and shutil.copytree()?\n",
    "\n",
    "        shutil.copy : Copies a single file\n",
    "        \n",
    "        shutil.copytree() : will copy an entire folder and every folder and file contained in it\n"
   ]
  },
  {
   "cell_type": "markdown",
   "id": "86faea45",
   "metadata": {},
   "source": [
    "### 2. What function is used to rename files?\n",
    "\n",
    "        The os.rename() function is used to rename files in Python. It is a function provided by the os module, which\n",
    "        provides a way to interact with the operating system."
   ]
  },
  {
   "cell_type": "markdown",
   "id": "d01fcd2b",
   "metadata": {},
   "source": [
    "### 3. What is the difference between the delete functions in the send2trash and shutil modules?\n",
    "\n",
    "        The shutil module provides the shutil.rmtree() function, which recursively deletes a directory and its contents.\n",
    "        This function permanently deletes the files and folders, and they cannot be recovered.\n",
    "\n",
    "        The send2trash module provides the send2trash.send2trash() function, which sends files and folders to the operating\n",
    "        system's trash or recycle bin instead of permanently deleting them. This allows the user to recover files that were\n",
    "        accidentally deleted."
   ]
  },
  {
   "cell_type": "markdown",
   "id": "c70082ff",
   "metadata": {},
   "source": [
    "### 4. ZipFile objects have a close() method just like File objects’ close() method. What ZipFile method is equivalent to File objects’ open() method?\n",
    "\n",
    "        The equivalent method to the open() method of a file object in the ZipFile class is the ZipFile() constructor.\n",
    "        \n",
    "        The ZipFile() constructor creates a new ZipFile object, which can be used to read, write, or modify the contents of\n",
    "        a ZIP archive file."
   ]
  },
  {
   "cell_type": "markdown",
   "id": "0c009371",
   "metadata": {},
   "source": [
    "### 5. Create a programme that searches a folder tree for files with a certain file extension (such as .pdf or .jpg). Copy these files from whatever location they are in to a new folder."
   ]
  },
  {
   "cell_type": "code",
   "execution_count": 3,
   "id": "3b6e839c",
   "metadata": {},
   "outputs": [
    {
     "name": "stdout",
     "output_type": "stream",
     "text": [
      "Looking in C:\\raghu\\Full Stack Data Science BootCamp 1.0\\assignments for files with extensions of .mp4, .pdf, .jpg\n",
      "Coping C:\\raghu\\Full Stack Data Science BootCamp 1.0\\assignments\\1-Simple Linearregression.pdf to C:\\raghu\\Full Stack Data Science BootCamp 1.0\\assignments_2\n",
      "Coping C:\\raghu\\Full Stack Data Science BootCamp 1.0\\assignments\\2-RidgeLassoelasticLogistic.pdf to C:\\raghu\\Full Stack Data Science BootCamp 1.0\\assignments_2\n",
      "Coping C:\\raghu\\Full Stack Data Science BootCamp 1.0\\assignments\\3-NaiveBayes_KNN.pdf to C:\\raghu\\Full Stack Data Science BootCamp 1.0\\assignments_2\n"
     ]
    }
   ],
   "source": [
    "import os, shutil\n",
    "\n",
    "def selectiveCopy(source, extensions, destFolder):\n",
    "    folder = os.path.abspath(source)\n",
    "    destFolder = os.path.abspath(destFolder)\n",
    "    print('Looking in', source, 'for files with extensions of', ', '.join(extensions))\n",
    "    for foldername, subfolders, filenames in os.walk(source):\n",
    "        for filename in filenames:\n",
    "            name, extension = os.path.splitext(filename)\n",
    "            if extension in extensions:\n",
    "                fileAbsPath = foldername + os.path.sep + filename\n",
    "                print('Coping', fileAbsPath, 'to', destFolder)\n",
    "                shutil.copy(fileAbsPath, destFolder)\n",
    "\n",
    "extensions = ['.mp4', '.pdf','.jpg']\n",
    "source = \"C:\\\\raghu\\\\Full Stack Data Science BootCamp 1.0\\\\assignments\"\n",
    "destFolder = \"C:\\\\raghu\\\\Full Stack Data Science BootCamp 1.0\\\\assignments_2\"\n",
    "selectiveCopy(source, extensions, destFolder)"
   ]
  },
  {
   "cell_type": "code",
   "execution_count": null,
   "id": "957fc615",
   "metadata": {},
   "outputs": [],
   "source": []
  }
 ],
 "metadata": {
  "kernelspec": {
   "display_name": "Python 3 (ipykernel)",
   "language": "python",
   "name": "python3"
  },
  "language_info": {
   "codemirror_mode": {
    "name": "ipython",
    "version": 3
   },
   "file_extension": ".py",
   "mimetype": "text/x-python",
   "name": "python",
   "nbconvert_exporter": "python",
   "pygments_lexer": "ipython3",
   "version": "3.9.13"
  }
 },
 "nbformat": 4,
 "nbformat_minor": 5
}
