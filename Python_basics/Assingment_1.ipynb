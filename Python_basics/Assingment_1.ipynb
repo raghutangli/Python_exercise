{
 "cells": [
  {
   "cell_type": "markdown",
   "id": "ec4497e9",
   "metadata": {},
   "source": [
    "### 1. In the below elements which of them are values or an expression? eg:- values can be integer or string and expressions will be mathematical operators.\n",
    "\n",
    "*\n",
    "'hello'\n",
    "-87.8\n",
    "-\n",
    "/\n",
    "+\n",
    "6\n",
    "\n",
    "['hello', -87.8 , 6]---values\n",
    "\n",
    "[* , - , / , +]---expressions\n",
    "\n"
   ]
  },
  {
   "cell_type": "markdown",
   "id": "a155362f",
   "metadata": {},
   "source": [
    "### 2. What is the difference between string and variable?\n",
    "\n",
    "A string is a specific type of data that represents textual data in programming languages, \n",
    "while a variable is a container that can store various types of data, including strings.\n",
    "A variable can be assigned a value, including a string value, \n",
    "and can be used to store and manipulate data throughout a program."
   ]
  },
  {
   "cell_type": "markdown",
   "id": "e9f698d7",
   "metadata": {},
   "source": [
    "### 3. Describe three different data types.\n",
    "\n",
    "1.Numeric Types:\n",
    "Numeric data types represent numbers. There are three numeric types in Python:\n",
    "\n",
    "*Integer (int): This data type represents whole numbers, such as 1, 2, 3, etc.\n",
    "\n",
    "*Float: This data type represents real numbers with decimal points, such as 3.14, 4.67, etc.\n",
    "\n",
    "*Complex: This data type represents complex numbers, such as 3 + 2j, 1 - 4j, etc.\n",
    "\n",
    "2.String:\n",
    "A string is a sequence of characters, enclosed in quotes (either single quotes or double quotes). Strings can contain letters, numbers, and special characters. Strings are immutable, which means that once created, their values cannot be changed.\n",
    "\n",
    "3.Boolean:\n",
    "The Boolean data type represents a value that can be either true or false.\n",
    "\n",
    "4.List:\n",
    "A list is a collection of ordered items. Lists can contain any data type, including other lists. Lists are mutable, which means that their values can be changed after creation.\n",
    "\n",
    "5.Tuple:\n",
    "A tuple is similar to a list, but tuples are immutable. Once created, their values cannot be changed. Tuples are often used to group related data together.\n",
    "\n",
    "6.Set:\n",
    "A set is an unordered collection of unique items. Sets are mutable, and they can be used to perform mathematical set operations such as union, intersection, and difference.\n",
    "\n",
    "7.Dictionary:\n",
    "A dictionary is a collection of key-value pairs. Each key in the dictionary maps to a value. Dictionaries are mutable and can contain any data type as a value."
   ]
  },
  {
   "cell_type": "markdown",
   "id": "5ed9e906",
   "metadata": {},
   "source": [
    "### 4. What is an expression made up of? What do all expressions do?\n",
    "\n",
    "\n",
    "In programming, an expression is a combination of values, variables, operators, and function calls that can be evaluated to produce a result. Expressions can be as simple as a single value or as complex as a nested set of functions and operators.\n",
    "\n",
    "All expressions in programming languages perform some computation and produce a value. The value produced by an expression can be used in various ways, such as assigning to a variable, passing as an argument to a function, or as a condition in a control structure."
   ]
  },
  {
   "cell_type": "markdown",
   "id": "4adc6c46",
   "metadata": {},
   "source": [
    "### 5. This assignment statements, like spam = 10. What is the difference between an expression and a statement?\n",
    "\n",
    "An expression is a combination of values, variables, operators, and function calls that can be evaluated to produce a value. Expressions can be used to compute a value, which can be used as an argument to a function, assigned to a variable, or used as a condition in a control structure.\n",
    "\n",
    "A statement is a complete instruction that performs some action. Statements are used to control the flow of a program, such as loops, conditionals, and function definitions. A statement can contain one or more expressions, but it is a complete instruction that performs a specific action."
   ]
  },
  {
   "cell_type": "markdown",
   "id": "40255af8",
   "metadata": {},
   "source": [
    "### 6. After running the following code, what does the variable bacon contain?   (bacon = 22 , bacon + 1)\n",
    "\n",
    "Variable bacon contain 22 after running above code."
   ]
  },
  {
   "cell_type": "markdown",
   "id": "67db738d",
   "metadata": {},
   "source": [
    "### 7. What should the values of the following two terms be?\n",
    "\n",
    "'spam' + 'spamspam'  =  'spamspamspam'\n",
    "\n",
    "'spam' *3 = 'spamspamspam'"
   ]
  },
  {
   "cell_type": "markdown",
   "id": "3741ef88",
   "metadata": {},
   "source": [
    "### 8. Why is eggs a valid variable name while 100 is invalid?\n",
    "\n",
    "In Python, variable names must follow certain rules and conventions. One of the rules is that a variable name must start with a letter or an underscore. It cannot start with a number.\n",
    "\n",
    "That is why \"eggs\" is a valid variable name in Python, as it starts with a letter.\n",
    "\n",
    "On the other hand, \"100\" starts with a number, which violates the naming rules in Python. Variable names cannot start with a number in Python."
   ]
  },
  {
   "cell_type": "markdown",
   "id": "3bda8027",
   "metadata": {},
   "source": [
    "### 9. What three functions can be used to get the integer, floating-point number, or string version of a value?\n",
    "\n",
    "int(value),\n",
    "float(value),\n",
    "str(value)"
   ]
  },
  {
   "cell_type": "markdown",
   "id": "185bdd63",
   "metadata": {},
   "source": [
    "### 10. Why does this expression cause an error? How can you fix it?\n",
    "\n",
    "TypeError will come after running this expression, because we can concatenate string to string, string to integer is not possible.\n",
    "\n",
    "TypeError: can only concatenate str (not \"int\") to str\n",
    "\n",
    "To fix this type error 99 needs to put in quotes.\n",
    "\n",
    "'i have eaten' + ' 99 ' + 'burritos'"
   ]
  }
 ],
 "metadata": {
  "kernelspec": {
   "display_name": "Python 3 (ipykernel)",
   "language": "python",
   "name": "python3"
  },
  "language_info": {
   "codemirror_mode": {
    "name": "ipython",
    "version": 3
   },
   "file_extension": ".py",
   "mimetype": "text/x-python",
   "name": "python",
   "nbconvert_exporter": "python",
   "pygments_lexer": "ipython3",
   "version": "3.9.13"
  }
 },
 "nbformat": 4,
 "nbformat_minor": 5
}
