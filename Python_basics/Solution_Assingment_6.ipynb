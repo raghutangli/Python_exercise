{
 "cells": [
  {
   "cell_type": "code",
   "execution_count": 1,
   "id": "d6e08a42",
   "metadata": {},
   "outputs": [
    {
     "name": "stdout",
     "output_type": "stream",
     "text": [
      "0 1 1 2 3 5 8 13 21 34 "
     ]
    }
   ],
   "source": [
    "#1.\tWrite a Python Program to Display Fibonacci Sequence Using Recursion?\n",
    "\n",
    "def fib(n):\n",
    "    if n <= 0:\n",
    "        return \"invalid input\"\n",
    "    \n",
    "    elif n == 1:\n",
    "        return 0\n",
    "    \n",
    "    elif n == 2:\n",
    "        return 1\n",
    "    \n",
    "    else:\n",
    "        return fib(n-1)+fib(n-2)\n",
    "\n",
    "def print_fib(n):\n",
    "    for i in range(1, n+1):\n",
    "        print(fib(i), end=\" \")\n",
    "\n",
    "\n",
    "print_fib(10)"
   ]
  },
  {
   "cell_type": "code",
   "execution_count": 2,
   "id": "839d0bc9",
   "metadata": {},
   "outputs": [
    {
     "data": {
      "text/plain": [
       "720"
      ]
     },
     "execution_count": 2,
     "metadata": {},
     "output_type": "execute_result"
    }
   ],
   "source": [
    "#2.\tWrite a Python Program to Find Factorial of Number Using Recursion?\n",
    "\n",
    "def factorial(x):\n",
    "    if x == 1:\n",
    "        return 1\n",
    "    else:\n",
    "        return (x * factorial(x-1))\n",
    "    \n",
    "factorial(6)    "
   ]
  },
  {
   "cell_type": "code",
   "execution_count": 3,
   "id": "ba64543d",
   "metadata": {},
   "outputs": [
    {
     "name": "stdout",
     "output_type": "stream",
     "text": [
      "enter weight in kg: 65\n",
      "enter height in m: 1.65\n",
      "you BMI is 23.875114784205696\n"
     ]
    }
   ],
   "source": [
    "#3.\tWrite a Python Program to calculate your Body Mass Index?\n",
    "\n",
    "def bmi(weight,height):\n",
    "    bmi = weight/(height**2)\n",
    "    return bmi\n",
    "\n",
    "weight = float(input('enter weight in kg: '))\n",
    "height = float(input('enter height in m: '))\n",
    "\n",
    "print(\"you BMI is\",bmi(weight,height))"
   ]
  },
  {
   "cell_type": "code",
   "execution_count": 5,
   "id": "d72a3f80",
   "metadata": {},
   "outputs": [
    {
     "name": "stdout",
     "output_type": "stream",
     "text": [
      "enter number:14\n",
      "natural log of 14.0 is 1.146128035678238\n"
     ]
    }
   ],
   "source": [
    "#4.\tWrite a Python Program to calculate the natural logarithm of any number?\n",
    "\n",
    "import math\n",
    "\n",
    "n = float(input('enter number:'))\n",
    "\n",
    "def log_10(n):\n",
    "    return math.log10(n)\n",
    "\n",
    "\n",
    "print(f\"natural log of {n} is {log_10(n)}\")\n",
    "\n",
    "    \n"
   ]
  },
  {
   "cell_type": "code",
   "execution_count": 15,
   "id": "d3729523",
   "metadata": {},
   "outputs": [
    {
     "name": "stdout",
     "output_type": "stream",
     "text": [
      "enter number:8\n",
      "The cube sum of the first 8 natural numbers is 1296\n"
     ]
    }
   ],
   "source": [
    "#5.\tWrite a Python Program for cube sum of first n natural numbers?\n",
    "\n",
    "n = int(input('enter number:'))\n",
    "\n",
    "def cubes_sum(n):\n",
    "    sum=0\n",
    "    for i in range(1,n+1):\n",
    "        sum += i**3\n",
    "    return sum\n",
    "\n",
    "print(\"The cube sum of the first\", n, \"natural numbers is\", cubes_sum(n))\n",
    "      "
   ]
  }
 ],
 "metadata": {
  "kernelspec": {
   "display_name": "Python 3 (ipykernel)",
   "language": "python",
   "name": "python3"
  },
  "language_info": {
   "codemirror_mode": {
    "name": "ipython",
    "version": 3
   },
   "file_extension": ".py",
   "mimetype": "text/x-python",
   "name": "python",
   "nbconvert_exporter": "python",
   "pygments_lexer": "ipython3",
   "version": "3.9.13"
  }
 },
 "nbformat": 4,
 "nbformat_minor": 5
}
