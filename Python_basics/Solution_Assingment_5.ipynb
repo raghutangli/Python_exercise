{
 "cells": [
  {
   "cell_type": "code",
   "execution_count": 2,
   "id": "9c7df578",
   "metadata": {},
   "outputs": [
    {
     "data": {
      "text/plain": [
       "30"
      ]
     },
     "execution_count": 2,
     "metadata": {},
     "output_type": "execute_result"
    }
   ],
   "source": [
    "#1.\tWrite a Python Program to Find LCM?\n",
    "\n",
    "def lcm(x, y):\n",
    "    if x > y:\n",
    "        greater = x\n",
    "    else:\n",
    "        greater = y\n",
    "\n",
    "    while True:\n",
    "        if (greater % x == 0) and (greater % y == 0):\n",
    "            lcm = greater\n",
    "            break\n",
    "        greater += 1\n",
    "\n",
    "    return lcm\n",
    "\n",
    "lcm(10,15)"
   ]
  },
  {
   "cell_type": "code",
   "execution_count": 3,
   "id": "53e871ea",
   "metadata": {},
   "outputs": [
    {
     "data": {
      "text/plain": [
       "2"
      ]
     },
     "execution_count": 3,
     "metadata": {},
     "output_type": "execute_result"
    }
   ],
   "source": [
    "#2.\tWrite a Python Program to Find HCF?\n",
    "\n",
    "def hcf(x, y):\n",
    "    if x > y:\n",
    "        smaller = y\n",
    "    else:\n",
    "        smaller = x\n",
    "\n",
    "    for i in range(1, smaller + 1):\n",
    "        if (x % i == 0) and (y % i == 0):\n",
    "            hcf = i\n",
    "\n",
    "    return hcf\n",
    "\n",
    "hcf(2,4)"
   ]
  },
  {
   "cell_type": "code",
   "execution_count": 14,
   "id": "542b7241",
   "metadata": {},
   "outputs": [
    {
     "name": "stdout",
     "output_type": "stream",
     "text": [
      "enter number 20\n",
      "20 in binary: 0b10100\n",
      "20 in octal: 0o24\n",
      "20 in hexadecimal: 0x14\n"
     ]
    }
   ],
   "source": [
    "#3.\tWrite a Python Program to Convert Decimal to Binary, Octal and Hexadecimal?\n",
    "\n",
    "num = int(input(\"enter number \"))\n",
    "\n",
    "print(f\"{num} in binary: {bin(num)}\")\n",
    "print(f\"{num} in octal: {oct(num)}\")\n",
    "print(f\"{num} in hexadecimal: {hex(num)}\")"
   ]
  },
  {
   "cell_type": "code",
   "execution_count": 16,
   "id": "29cb9613",
   "metadata": {},
   "outputs": [
    {
     "data": {
      "text/plain": [
       "65"
      ]
     },
     "execution_count": 16,
     "metadata": {},
     "output_type": "execute_result"
    }
   ],
   "source": [
    "#4.\tWrite a Python Program To Find ASCII value of a character?\n",
    "\n",
    "def ascii_value(c):\n",
    "    ascii_v = ord(c)\n",
    "    return ascii_v\n",
    "\n",
    "ascii_value(\"A\")"
   ]
  },
  {
   "cell_type": "code",
   "execution_count": 21,
   "id": "28657311",
   "metadata": {},
   "outputs": [
    {
     "name": "stdout",
     "output_type": "stream",
     "text": [
      "Enter num1: 5\n",
      "Enter num2: 0\n",
      "select operation addition=1,substraction=2,multiply=3,division=4:4\n",
      "Enter correct num2 value\n"
     ]
    }
   ],
   "source": [
    "#5.\tWrite a Python Program to Make a Simple Calculator with 4 basic mathematical operations?\n",
    "\n",
    "def add(num1,num2):\n",
    "    return num1 + num2\n",
    "\n",
    "def sub(num1,num2):\n",
    "    return num1 - num2\n",
    "\n",
    "def mul(num1,num2):\n",
    "    return num1 * num2\n",
    "\n",
    "def div(num1,num2):\n",
    "    if num2 == 0:\n",
    "        return \"Enter correct num2 value\"\n",
    "    else:\n",
    "        return num1 / num2\n",
    "    \n",
    "num1 = float(input(\"Enter num1: \"))\n",
    "num2 = float(input(\"Enter num2: \"))\n",
    "    \n",
    "choice = int(input(\"select operation addition=1,substraction=2,multiply=3,division=4:\"))\n",
    "\n",
    "if choice == 1:\n",
    "    result = add(num1,num2)\n",
    "    print(result)\n",
    "\n",
    "elif choice == 2:\n",
    "    result = sub(num1,num2)\n",
    "    print(result)\n",
    "\n",
    "elif choice == 3:\n",
    "    result = mul(num1,num2)\n",
    "    print(result)\n",
    "\n",
    "elif choice == 4:\n",
    "    result = div(num1,num2)\n",
    "    print(result)"
   ]
  },
  {
   "cell_type": "code",
   "execution_count": null,
   "id": "066d1f9f",
   "metadata": {},
   "outputs": [],
   "source": []
  }
 ],
 "metadata": {
  "kernelspec": {
   "display_name": "Python 3 (ipykernel)",
   "language": "python",
   "name": "python3"
  },
  "language_info": {
   "codemirror_mode": {
    "name": "ipython",
    "version": 3
   },
   "file_extension": ".py",
   "mimetype": "text/x-python",
   "name": "python",
   "nbconvert_exporter": "python",
   "pygments_lexer": "ipython3",
   "version": "3.9.13"
  }
 },
 "nbformat": 4,
 "nbformat_minor": 5
}
