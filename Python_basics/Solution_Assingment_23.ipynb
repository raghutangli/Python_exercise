{
 "cells": [
  {
   "cell_type": "markdown",
   "id": "f22acb7f",
   "metadata": {},
   "source": [
    "# Question 1\n",
    "Create a function that takes a number as an argument and returns True or False depending on whether the number is symmetrical or not. A number is symmetrical when it is the same as its reverse.\n",
    "\n",
    "Examples\n",
    "\n",
    "is_symmetrical(7227) ➞ True\n",
    "\n",
    "is_symmetrical(12567) ➞ False\n",
    "\n",
    "is_symmetrical(44444444) ➞ True\n",
    "\n",
    "is_symmetrical(9939) ➞ False\n",
    "\n",
    "is_symmetrical(1112111) ➞ True"
   ]
  },
  {
   "cell_type": "code",
   "execution_count": 2,
   "id": "3c0df838",
   "metadata": {},
   "outputs": [
    {
     "data": {
      "text/plain": [
       "True"
      ]
     },
     "execution_count": 2,
     "metadata": {},
     "output_type": "execute_result"
    }
   ],
   "source": [
    "def is_symmetrical(num):\n",
    "    num_str = str(num)\n",
    "    reverse_str = num_str[::-1]\n",
    "    \n",
    "    if num_str == reverse_str:\n",
    "        return True\n",
    "    else:\n",
    "        return False\n",
    "\n",
    "is_symmetrical(1112111)"
   ]
  },
  {
   "cell_type": "markdown",
   "id": "d9b987e6",
   "metadata": {},
   "source": [
    "# Question 2\n",
    "Given a string of numbers separated by a comma and space, return the product of the numbers.\n",
    "\n",
    "Examples\n",
    "\n",
    "multiply_nums('2, 3') ➞ 6\n",
    "\n",
    "multiply_nums('1, 2, 3, 4') ➞ 24\n",
    "\n",
    "multiply_nums('54, 75, 453, 0') ➞ 0\n",
    "\n",
    "multiply_nums('10, -2') ➞ -20"
   ]
  },
  {
   "cell_type": "code",
   "execution_count": 12,
   "id": "992d2987",
   "metadata": {},
   "outputs": [
    {
     "data": {
      "text/plain": [
       "0"
      ]
     },
     "execution_count": 12,
     "metadata": {},
     "output_type": "execute_result"
    }
   ],
   "source": [
    "s = \"54, 75, 453, 0\"\n",
    "def multiply_nums(s):\n",
    "    s = s.replace(' ', \"\")\n",
    "    l = s.split(\",\")\n",
    "    m = 1\n",
    "    for i in l:\n",
    "        m  = m*int(i)\n",
    "    return m\n",
    "\n",
    "multiply_nums(s)"
   ]
  },
  {
   "cell_type": "markdown",
   "id": "ac0d3a24",
   "metadata": {},
   "source": [
    "# Question 3\n",
    "Create a function that squares every digit of a number.\n",
    "\n",
    "Examples\n",
    "\n",
    "square_digits(9119) ➞ 811181\n",
    "\n",
    "square_digits(2483) ➞ 416649\n",
    "\n",
    "square_digits(3212) ➞ 9414\n",
    "\n",
    "Notes\n",
    "\n",
    "The function receives an integer and must return an integer."
   ]
  },
  {
   "cell_type": "code",
   "execution_count": 46,
   "id": "9b2bd819",
   "metadata": {},
   "outputs": [
    {
     "data": {
      "text/plain": [
       "'9414'"
      ]
     },
     "execution_count": 46,
     "metadata": {},
     "output_type": "execute_result"
    }
   ],
   "source": [
    "def square_digits(n):\n",
    "    s = str(n)\n",
    "    m = ''\n",
    "    for i in s:\n",
    "        m = m + str(int(i)**2)\n",
    "    return m\n",
    "\n",
    "square_digits(3212)"
   ]
  },
  {
   "cell_type": "markdown",
   "id": "387ad54c",
   "metadata": {},
   "source": [
    "# Question 4\n",
    "Create a function that sorts a list and removes all duplicate items from it.\n",
    "\n",
    "Examples\n",
    "\n",
    "setify([1, 3, 3, 5, 5]) ➞ [1, 3, 5]\n",
    "\n",
    "setify([4, 4, 4, 4]) ➞ [4]\n",
    "\n",
    "setify([5, 7, 8, 9, 10, 15]) ➞ [5, 7, 8, 9, 10, 15]\n",
    "\n",
    "setify([3, 3, 3, 2, 1]) ➞ [1, 2, 3]"
   ]
  },
  {
   "cell_type": "code",
   "execution_count": 50,
   "id": "f212f673",
   "metadata": {},
   "outputs": [
    {
     "data": {
      "text/plain": [
       "[5, 7, 8, 9, 10, 15]"
      ]
     },
     "execution_count": 50,
     "metadata": {},
     "output_type": "execute_result"
    }
   ],
   "source": [
    "l = [5, 7, 8, 9, 10, 15]\n",
    "def setify(l):\n",
    "    return list(set(l))\n",
    "\n",
    "setify(l)"
   ]
  },
  {
   "cell_type": "markdown",
   "id": "b4526142",
   "metadata": {},
   "source": [
    "# Question 5\n",
    "Create a function that returns the mean of all digits.\n",
    "\n",
    "Examples\n",
    "\n",
    "mean(42) ➞ 3\n",
    "\n",
    "mean(12345) ➞ 3\n",
    "\n",
    "mean(666) ➞ 6\n",
    "\n",
    "Notes\n",
    "\n",
    "* The mean of all digits is the sum of digits / how many digits there are (e.g. mean of digits in512 is (5+1+2)/3(number of digits) = 8/3=2).\n",
    "* The mean will always be an integer."
   ]
  },
  {
   "cell_type": "code",
   "execution_count": 54,
   "id": "7295ec51",
   "metadata": {},
   "outputs": [
    {
     "data": {
      "text/plain": [
       "5"
      ]
     },
     "execution_count": 54,
     "metadata": {},
     "output_type": "execute_result"
    }
   ],
   "source": [
    "def mean(n):\n",
    "    num = len(str(n))\n",
    "    sum = 0\n",
    "    for i in str(n):\n",
    "        sum = sum + int(i)\n",
    "    mean  = int(round(sum/num))\n",
    "    return mean\n",
    "\n",
    "mean(55)"
   ]
  }
 ],
 "metadata": {
  "kernelspec": {
   "display_name": "Python 3 (ipykernel)",
   "language": "python",
   "name": "python3"
  },
  "language_info": {
   "codemirror_mode": {
    "name": "ipython",
    "version": 3
   },
   "file_extension": ".py",
   "mimetype": "text/x-python",
   "name": "python",
   "nbconvert_exporter": "python",
   "pygments_lexer": "ipython3",
   "version": "3.9.13"
  }
 },
 "nbformat": 4,
 "nbformat_minor": 5
}
