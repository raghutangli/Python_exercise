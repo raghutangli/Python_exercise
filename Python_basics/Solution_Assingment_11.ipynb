{
 "cells": [
  {
   "cell_type": "code",
   "execution_count": 1,
   "id": "66cd1f3d",
   "metadata": {},
   "outputs": [
    {
     "data": {
      "text/plain": [
       "['Indian']"
      ]
     },
     "execution_count": 1,
     "metadata": {},
     "output_type": "execute_result"
    }
   ],
   "source": [
    "#1.\tWrite a Python program to find words which are greater than given length k?\n",
    "\n",
    "def longest_word(k,str):\n",
    "    words = str.split()\n",
    "    words_list = []\n",
    "    for i in words:\n",
    "        if len(i) > k:\n",
    "            words_list.append(i)\n",
    "    return words_list\n",
    "longest_word(5,'I am an Indian')"
   ]
  },
  {
   "cell_type": "code",
   "execution_count": 6,
   "id": "5361591b",
   "metadata": {},
   "outputs": [
    {
     "data": {
      "text/plain": [
       "'aghu'"
      ]
     },
     "execution_count": 6,
     "metadata": {},
     "output_type": "execute_result"
    }
   ],
   "source": [
    "#2.\tWrite a Python program for removing i-th character from a string?\n",
    "\n",
    "def remove(str,i):\n",
    "    for j in range(len(str)):\n",
    "        if j == i:\n",
    "            str = str.replace(str[i], \"\", 1)\n",
    "    return str\n",
    "\n",
    "remove('raghu',0)"
   ]
  },
  {
   "cell_type": "code",
   "execution_count": 17,
   "id": "df446f8e",
   "metadata": {},
   "outputs": [
    {
     "name": "stdout",
     "output_type": "stream",
     "text": [
      "Spliting a string :  ['python', 'program', 'to', 'split', 'and', 'join', 'string']\n",
      "Joining a string :  python-program-to-split-and-join-string\n"
     ]
    }
   ],
   "source": [
    "#3.\tWrite a Python program to split and join a string?\n",
    "\n",
    "def split_str(str):\n",
    "    str1 = str.split(\" \")\n",
    "    print(\"Spliting a string : \",str1)\n",
    "\n",
    "    str2 = \"-\".join(str1)\n",
    "    print(\"Joining a string : \",str2)\n",
    "    \n",
    "    \n",
    "    \n",
    "split_str('python program to split and join string')"
   ]
  },
  {
   "cell_type": "code",
   "execution_count": 24,
   "id": "3073ea3e",
   "metadata": {},
   "outputs": [
    {
     "name": "stdout",
     "output_type": "stream",
     "text": [
      "Enter the string : 14101\n",
      "Not Binary\n"
     ]
    }
   ],
   "source": [
    "#4.\tWrite a Python to check if a given string is binary string or not?\n",
    "\n",
    "def checkBinary(str):\n",
    "    binary = '01'\n",
    "    for i in range(len(str)):\n",
    "        if str[i] not in binary:\n",
    "            print('Not Binary')\n",
    "            break\n",
    "    else:\n",
    "        print('Its a Binary')\n",
    "\n",
    "str = input(\"Enter the string : \")\n",
    "checkBinary(str) "
   ]
  },
  {
   "cell_type": "code",
   "execution_count": 25,
   "id": "e067d052",
   "metadata": {},
   "outputs": [
    {
     "name": "stdout",
     "output_type": "stream",
     "text": [
      "Enter the string a : jai sri ram\n",
      "Enter the string b : sri ram mandir\n",
      "The list of un Common words :   jai mandir\n"
     ]
    }
   ],
   "source": [
    "#5.\tWrite a Python program to find uncommon words from two Strings?\n",
    "\n",
    "def unCommon(a,b):\n",
    "    list_a = a.split()\n",
    "    list_b = b.split()\n",
    "    unCom =''\n",
    "    \n",
    "    for i in list_a:\n",
    "        if i not in list_b:\n",
    "            unCom = unCom +\" \"+ i\n",
    "    for j in list_b:\n",
    "        if j not in list_a:\n",
    "            unCom = unCom +\" \"+ j\n",
    "    return unCom\n",
    "\n",
    "a = input(\"Enter the string a : \").lower()\n",
    "b = input(\"Enter the string b : \").lower()\n",
    "\n",
    "print(\"The list of un Common words : \", unCommon(a,b))        "
   ]
  },
  {
   "cell_type": "code",
   "execution_count": 26,
   "id": "f321926e",
   "metadata": {},
   "outputs": [
    {
     "name": "stdout",
     "output_type": "stream",
     "text": [
      "Enter the string a : raghavendra\n"
     ]
    },
    {
     "data": {
      "text/plain": [
       "['r', 'a']"
      ]
     },
     "execution_count": 26,
     "metadata": {},
     "output_type": "execute_result"
    }
   ],
   "source": [
    "#6.\tWrite a Python to find all duplicate characters in string?\n",
    "\n",
    "str = input(\"Enter the string a : \").lower()\n",
    "duplicate = []\n",
    "\n",
    "for i in str:\n",
    "    if str.count(i) > 1 :\n",
    "        if i not in duplicate:\n",
    "            duplicate.append(i)\n",
    "        \n",
    "duplicate"
   ]
  },
  {
   "cell_type": "code",
   "execution_count": 27,
   "id": "2a46f1ac",
   "metadata": {},
   "outputs": [
    {
     "name": "stdout",
     "output_type": "stream",
     "text": [
      "Enter the string a : hi!!! welcome*(#@$%\n",
      "String hi!!! welcome*(#@$% has special charecter/s : ['!', '!', '!', '*', '(', '#', '@', '$', '%']\n"
     ]
    }
   ],
   "source": [
    "#7.\tWrite a Python Program to check if a string contains any special character?\n",
    "\n",
    "import string\n",
    "\n",
    "string_char = string.punctuation\n",
    "spChar = []\n",
    "\n",
    "str = input(\"Enter the string a : \").lower()\n",
    "for i in str:\n",
    "    if i in string_char:\n",
    "        spChar.append(i)\n",
    "if len(spChar) > 0:\n",
    "    print(\"String {} has special charecter/s : {}\".format(str,spChar))"
   ]
  }
 ],
 "metadata": {
  "kernelspec": {
   "display_name": "Python 3 (ipykernel)",
   "language": "python",
   "name": "python3"
  },
  "language_info": {
   "codemirror_mode": {
    "name": "ipython",
    "version": 3
   },
   "file_extension": ".py",
   "mimetype": "text/x-python",
   "name": "python",
   "nbconvert_exporter": "python",
   "pygments_lexer": "ipython3",
   "version": "3.9.13"
  }
 },
 "nbformat": 4,
 "nbformat_minor": 5
}
