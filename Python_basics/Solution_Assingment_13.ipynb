{
 "cells": [
  {
   "cell_type": "raw",
   "id": "95629b91",
   "metadata": {},
   "source": [
    "1.Write a program that calculates and prints the value according to the given formula:\n",
    "    Q = Square root of [(2 * C * D)/H]\n",
    "    Following are the fixed values of C and H:\n",
    "    C is 50. H is 30.\n",
    "    D is the variable whose values should be input to your program in a comma-separated\n",
    "    sequence.\n",
    "    Example\n",
    "    Let us assume the following comma separated input sequence is given to the program:\n",
    "    100,150,180\n",
    "    The output of the program should be:\n",
    "    18,22,24\n"
   ]
  },
  {
   "cell_type": "code",
   "execution_count": 15,
   "id": "7290fba1",
   "metadata": {},
   "outputs": [
    {
     "name": "stdout",
     "output_type": "stream",
     "text": [
      "Provide D in with comma separated: 100,150,180\n",
      "18,22,24\n"
     ]
    }
   ],
   "source": [
    "import math\n",
    "\n",
    "numbers = input(\"Provide D in with comma separated: \")\n",
    "numbers = numbers.split(',')\n",
    "\n",
    "result_list = []\n",
    "for D in numbers:\n",
    "    Q = round(math.sqrt(2 * 50 * int(D) / 30))\n",
    "    result_list.append(str(Q))\n",
    "    \n",
    "print(','.join(result_list))"
   ]
  },
  {
   "cell_type": "raw",
   "id": "b035fef4",
   "metadata": {},
   "source": [
    "2.Write a program which takes 2 digits, X,Y as input and generates a 2-dimensional array. The\n",
    "    element value in the i-th row and j-th column of the array should be i*j.\n",
    "    Note: i=0,1.., X-1; j=0,1,¡Y-1.\n",
    "    Example\n",
    "    Suppose the following inputs are given to the program:\n",
    "    3,5\n",
    "    Then, the output of the program should be:\n",
    "    [[0, 0, 0, 0, 0], [0, 1, 2, 3, 4], [0, 2, 4, 6, 8]]"
   ]
  },
  {
   "cell_type": "code",
   "execution_count": 33,
   "id": "d0bb2aa5",
   "metadata": {},
   "outputs": [
    {
     "name": "stdout",
     "output_type": "stream",
     "text": [
      "Enter the value of X: 3\n",
      "Enter the value of Y: 5\n"
     ]
    },
    {
     "data": {
      "text/plain": [
       "[[0, 0, 0, 0, 0], [0, 1, 2, 3, 4], [0, 2, 4, 6, 8]]"
      ]
     },
     "execution_count": 33,
     "metadata": {},
     "output_type": "execute_result"
    }
   ],
   "source": [
    "X = int(input(\"Enter the value of X: \"))\n",
    "Y = int(input(\"Enter the value of Y: \"))\n",
    "\n",
    "arr = [[0 for j in range(Y)] for i in range(X)]\n",
    "\n",
    "for i in range(X):\n",
    "    for j in range(Y):\n",
    "        arr[i][j] = i*j\n",
    "\n",
    "arr"
   ]
  },
  {
   "cell_type": "raw",
   "id": "40d12e8d",
   "metadata": {},
   "source": [
    "3.Write a program that accepts a comma separated sequence of words as input and prints the\n",
    "    words in a comma-separated sequence after sorting them alphabetically.\n",
    "    Suppose the following input is supplied to the program:\n",
    "    without,hello,bag,world\n",
    "    Then, the output should be:\n",
    "    bag,hello,without,world"
   ]
  },
  {
   "cell_type": "code",
   "execution_count": 34,
   "id": "4e299ad2",
   "metadata": {},
   "outputs": [
    {
     "name": "stdout",
     "output_type": "stream",
     "text": [
      "Enter a comma-separated sequence of words: without,hello,bag,world\n",
      "bag, hello, without, world\n"
     ]
    }
   ],
   "source": [
    "input_str = input(\"Enter a comma-separated sequence of words: \")\n",
    "\n",
    "words = input_str.split(',')\n",
    "words = [word.strip() for word in words]\n",
    "words.sort()\n",
    "output_str = ', '.join(words)\n",
    "\n",
    "print(output_str)\n"
   ]
  },
  {
   "cell_type": "raw",
   "id": "68cc3403",
   "metadata": {},
   "source": [
    "4.Write a program that accepts a sequence of whitespace separated words as input and prints\n",
    "    the words after removing all duplicate words and sorting them alphanumerically.\n",
    "    Suppose the following input is supplied to the program:\n",
    "    hello world and practice makes perfect and hello world again\n",
    "    Then, the output should be:\n",
    "    again and hello makes perfect practice world\n"
   ]
  },
  {
   "cell_type": "code",
   "execution_count": 35,
   "id": "291cbabd",
   "metadata": {},
   "outputs": [
    {
     "name": "stdout",
     "output_type": "stream",
     "text": [
      "Enter a whitespace separated words:  hello world and practice makes perfect and hello world again\n",
      " again and and hello hello makes perfect practice world world\n"
     ]
    }
   ],
   "source": [
    "input_str = input(\"Enter a whitespace separated words: \")\n",
    "\n",
    "words = input_str.split(' ')\n",
    "words = [word.strip() for word in words]\n",
    "words.sort()\n",
    "output_str = ' '.join(words)\n",
    "\n",
    "print(output_str)"
   ]
  },
  {
   "cell_type": "raw",
   "id": "b9a53b57",
   "metadata": {},
   "source": [
    "5.Write a program that accepts a sentence and calculate the number of letters and digits.\n",
    "    Suppose the following input is supplied to the program:\n",
    "    hello world! 123\n",
    "    Then, the output should be:\n",
    "    LETTERS 10\n",
    "    DIGITS 3\n"
   ]
  },
  {
   "cell_type": "code",
   "execution_count": 40,
   "id": "5632478e",
   "metadata": {},
   "outputs": [
    {
     "name": "stdout",
     "output_type": "stream",
     "text": [
      "Enter a sentence: hello world! 123\n",
      "LETTERS  10\n",
      "DIGITS  3\n"
     ]
    }
   ],
   "source": [
    "input_str = input(\"Enter a sentence: \")\n",
    "let=dig=0\n",
    "for i in input_str:\n",
    "    if i.isdigit():\n",
    "        dig += 1\n",
    "    elif i.isalpha():\n",
    "        let+= 1\n",
    "    else:\n",
    "        pass\n",
    "\n",
    "print('LETTERS ', let)\n",
    "print('DIGITS ', dig)\n",
    "    "
   ]
  },
  {
   "cell_type": "raw",
   "id": "adb7fde5",
   "metadata": {},
   "source": [
    "6.A website requires the users to input username and password to register. Write a program to\n",
    "    check the validity of password input by users.\n",
    "    Following are the criteria for checking the password:\n",
    "    1. At least 1 letter between [a-z]\n",
    "    2. At least 1 number between [0-9]\n",
    "    1. At least 1 letter between [A-Z]\n",
    "    3. At least 1 character from [$#@]\n",
    "    4. Minimum length of transaction password: 6\n",
    "    5. Maximum length of transaction password: 12\n",
    "    Your program should accept a sequence of comma separated passwords and will check them\n",
    "    according to the above criteria. Passwords that match the criteria are to be printed, each\n",
    "    separated by a comma.\n",
    "    Example\n",
    "    If the following passwords are given as input to the program:\n",
    "    ABd1234@1,a F1#,2w3E*,2We3345\n",
    "    Then, the output of the program should be:\n",
    "    ABd1234@1"
   ]
  },
  {
   "cell_type": "code",
   "execution_count": 51,
   "id": "995de339",
   "metadata": {},
   "outputs": [
    {
     "name": "stdout",
     "output_type": "stream",
     "text": [
      "Enter a password: 2We3345\n",
      "Password is invalid.\n"
     ]
    }
   ],
   "source": [
    "def valid_password(password):\n",
    "    if (len(password) < 6 or len(password) > 12):\n",
    "        return False\n",
    "    elif not re.search(r'[A-Z]', password):\n",
    "        return False\n",
    "    elif not re.search(r'[a-z]', password):\n",
    "        return False\n",
    "    elif not re.search(r'[0-9]', password):\n",
    "        return False\n",
    "    elif not re.search(r'[$#@]', password):\n",
    "        return False\n",
    "    return True\n",
    "\n",
    "\n",
    "password = input(\"Enter a password: \")\n",
    "if valid_password(password):\n",
    "    print(\"Password is valid!\")\n",
    "else:\n",
    "    print(\"Password is invalid.\")"
   ]
  }
 ],
 "metadata": {
  "kernelspec": {
   "display_name": "Python 3 (ipykernel)",
   "language": "python",
   "name": "python3"
  },
  "language_info": {
   "codemirror_mode": {
    "name": "ipython",
    "version": 3
   },
   "file_extension": ".py",
   "mimetype": "text/x-python",
   "name": "python",
   "nbconvert_exporter": "python",
   "pygments_lexer": "ipython3",
   "version": "3.9.13"
  }
 },
 "nbformat": 4,
 "nbformat_minor": 5
}
