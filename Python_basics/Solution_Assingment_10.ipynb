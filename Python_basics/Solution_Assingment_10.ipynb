{
 "cells": [
  {
   "cell_type": "code",
   "execution_count": 6,
   "id": "8243cc61",
   "metadata": {},
   "outputs": [
    {
     "name": "stdout",
     "output_type": "stream",
     "text": [
      "15\n"
     ]
    }
   ],
   "source": [
    "#1. Write a Python program to find sum of elements in list?\n",
    "\n",
    "def add_list(numbers):\n",
    "    result = 0\n",
    "    for num in numbers:\n",
    "        result += num\n",
    "    return result\n",
    "\n",
    "numbers = [1, 2, 3, 4, 5]\n",
    "print(add_list(numbers)) "
   ]
  },
  {
   "cell_type": "code",
   "execution_count": 4,
   "id": "2bbc0f9b",
   "metadata": {},
   "outputs": [
    {
     "name": "stdout",
     "output_type": "stream",
     "text": [
      "480\n"
     ]
    }
   ],
   "source": [
    "#2. Write a Python program to Multiply all numbers in the list?\n",
    "\n",
    "def multiply_list(numbers):\n",
    "    result = 1\n",
    "    for num in numbers:\n",
    "        result *= num\n",
    "    return result\n",
    "\n",
    "numbers = [1, 2, 3, 4, 20]\n",
    "print(multiply_list(numbers)) "
   ]
  },
  {
   "cell_type": "code",
   "execution_count": 8,
   "id": "99cbaf06",
   "metadata": {},
   "outputs": [
    {
     "name": "stdout",
     "output_type": "stream",
     "text": [
      "2\n"
     ]
    }
   ],
   "source": [
    "#3. Write a Python program to find smallest number in a list?\n",
    "\n",
    "def find_smallest_number(numbers):\n",
    "    smallest = numbers[0]\n",
    "    for num in numbers:\n",
    "        if num < smallest:\n",
    "            smallest = num\n",
    "    return smallest\n",
    "\n",
    "numbers = [10, 5, 7, 3, 8, 2]\n",
    "print(find_smallest_number(numbers)) "
   ]
  },
  {
   "cell_type": "code",
   "execution_count": 10,
   "id": "acd04da3",
   "metadata": {},
   "outputs": [
    {
     "name": "stdout",
     "output_type": "stream",
     "text": [
      "25\n"
     ]
    }
   ],
   "source": [
    "#4. Write a Python program to find largest number in a list?\n",
    "\n",
    "def find_largest_number(numbers):\n",
    "    largest = numbers[0]\n",
    "    for num in numbers:\n",
    "        if num > largest:\n",
    "            largest = num\n",
    "    return largest\n",
    "\n",
    "numbers = [10, 5, 7, 3, 8, 25]\n",
    "print(find_largest_number(numbers)) "
   ]
  },
  {
   "cell_type": "code",
   "execution_count": 11,
   "id": "0452e652",
   "metadata": {},
   "outputs": [
    {
     "name": "stdout",
     "output_type": "stream",
     "text": [
      "8\n"
     ]
    }
   ],
   "source": [
    "5. Write a Python program to find second largest number in a list?\n",
    "\n",
    "def find_second_largest(numbers):\n",
    "    largest = numbers[0]\n",
    "    second_largest = None\n",
    "    for num in numbers[1:]:\n",
    "        if num > largest:\n",
    "            second_largest = largest\n",
    "            largest = num\n",
    "        elif second_largest is None or num > second_largest:\n",
    "            second_largest = num\n",
    "    return second_largest\n",
    "\n",
    "\n",
    "numbers = [10, 5, 7, 3, 8, 2]\n",
    "print(find_second_largest(numbers)) "
   ]
  },
  {
   "cell_type": "code",
   "execution_count": 14,
   "id": "9d31d39d",
   "metadata": {},
   "outputs": [
    {
     "name": "stdout",
     "output_type": "stream",
     "text": [
      "[10, 8, 7]\n"
     ]
    }
   ],
   "source": [
    "#6. Write a Python program to find N largest elements from a list?\n",
    "\n",
    "def find_n_largest(numbers, n):\n",
    "    sorted_numbers = sorted(numbers, reverse=True)\n",
    "    return sorted_numbers[:n]\n",
    "\n",
    "numbers = [10, 5, 7, 3, 8, 2]\n",
    "n = 3\n",
    "print(find_n_largest(numbers, n))"
   ]
  },
  {
   "cell_type": "code",
   "execution_count": 21,
   "id": "ada75ce0",
   "metadata": {},
   "outputs": [
    {
     "name": "stdout",
     "output_type": "stream",
     "text": [
      "10\n",
      "8\n",
      "2\n"
     ]
    }
   ],
   "source": [
    "#7. Write a Python program to print even numbers in a list?\n",
    "\n",
    "def even_list(numbers):\n",
    "    for even in numbers:\n",
    "        if even%2 == 0:\n",
    "            print(even)        \n",
    "numbers = [10, 5, 7, 3, 8, 2]\n",
    "even_list(numbers)"
   ]
  },
  {
   "cell_type": "code",
   "execution_count": 23,
   "id": "42362036",
   "metadata": {},
   "outputs": [
    {
     "name": "stdout",
     "output_type": "stream",
     "text": [
      "5\n",
      "7\n",
      "3\n"
     ]
    }
   ],
   "source": [
    "#8. Write a Python program to print odd numbers in a List?\n",
    "\n",
    "def odd_list(numbers):\n",
    "    for odd in numbers:\n",
    "        if odd%2!= 0:\n",
    "            print(odd)        \n",
    "numbers = [10, 5, 7, 3, 8, 2]\n",
    "odd_list(numbers)"
   ]
  },
  {
   "cell_type": "code",
   "execution_count": 27,
   "id": "4e09d8ae",
   "metadata": {},
   "outputs": [
    {
     "data": {
      "text/plain": [
       "[4, 5, 90, 7, 3, 1, 20]"
      ]
     },
     "execution_count": 27,
     "metadata": {},
     "output_type": "execute_result"
    }
   ],
   "source": [
    "#9. Write a Python program to Remove empty List from List?\n",
    "lst = [4,5,[],90,7,3,[],1,20,[]]\n",
    "removed_empty = [removed for removed in lst if removed != []]\n",
    "removed_empty"
   ]
  },
  {
   "cell_type": "code",
   "execution_count": 32,
   "id": "ab35a3f0",
   "metadata": {},
   "outputs": [
    {
     "name": "stdout",
     "output_type": "stream",
     "text": [
      "old list is: [23, 56, 78, 34, 69, 10]\n",
      "copied list is: [23, 56, 78, 34, 69, 10]\n"
     ]
    }
   ],
   "source": [
    "#10.Write a Python program to Cloning or Copying a list?\n",
    "\n",
    "lst_old = [23,56,78,34,69,10]\n",
    "print(\"old list is:\" , lst_old)\n",
    "lst_new = lst_old.copy()\n",
    "print(\"copied list is:\" , lst_new)"
   ]
  },
  {
   "cell_type": "code",
   "execution_count": 37,
   "id": "77d3b911",
   "metadata": {},
   "outputs": [
    {
     "data": {
      "text/plain": [
       "1"
      ]
     },
     "execution_count": 37,
     "metadata": {},
     "output_type": "execute_result"
    }
   ],
   "source": [
    "#11. Write a Python program to Count occurrences of an element in a list\n",
    "\n",
    "lst1 = [2,4,2,7,3,9,3,4,4,9,4,6,8,2,5,8,9,4,2,5,7,8,4,2,5,10]\n",
    "\n",
    "lst1.count(10)"
   ]
  }
 ],
 "metadata": {
  "kernelspec": {
   "display_name": "Python 3 (ipykernel)",
   "language": "python",
   "name": "python3"
  },
  "language_info": {
   "codemirror_mode": {
    "name": "ipython",
    "version": 3
   },
   "file_extension": ".py",
   "mimetype": "text/x-python",
   "name": "python",
   "nbconvert_exporter": "python",
   "pygments_lexer": "ipython3",
   "version": "3.9.13"
  }
 },
 "nbformat": 4,
 "nbformat_minor": 5
}
