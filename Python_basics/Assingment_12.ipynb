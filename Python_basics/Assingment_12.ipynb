{
 "cells": [
  {
   "cell_type": "markdown",
   "id": "b70b3b6e",
   "metadata": {},
   "source": [
    "### 1. In what modes should the PdfFileReader() and PdfFileWriter() File objects will be opened?\n",
    "\n",
    "        These files will be opened in binary mode.\n",
    "\n"
   ]
  },
  {
   "cell_type": "markdown",
   "id": "9ef9f9d4",
   "metadata": {},
   "source": [
    "### 2. From a PdfFileReader object, how do you get a Page object for page 5?\n",
    "\n"
   ]
  },
  {
   "cell_type": "code",
   "execution_count": 1,
   "id": "b7124ab9",
   "metadata": {
    "scrolled": true
   },
   "outputs": [],
   "source": [
    "import PyPDF2\n",
    "\n",
    "with open('1-Simple Linearregression.pdf', 'rb') as f:\n",
    "\n",
    "    pdf_reader = PyPDF2.PdfReader(f)\n",
    "\n",
    "    page_5 = pdf_reader.pages[4]"
   ]
  },
  {
   "cell_type": "markdown",
   "id": "e45d16c0",
   "metadata": {},
   "source": [
    "### 3. What PdfFileReader variable stores the number of pages in the PDF document?\n",
    "\n",
    "        getNumPages()"
   ]
  },
  {
   "cell_type": "markdown",
   "id": "593a67a1",
   "metadata": {},
   "source": [
    "### 4. If a PdfFileReader object’s PDF is encrypted with the password swordfish, what must you do before you can obtain Page objects from it?\n",
    "\n",
    "        Page objects can be obtained by decrypt() method of the PdfFileReader object and passing in the password as a\n",
    "        string argument.\n",
    "        \n",
    "        decrypt('swordfish')"
   ]
  },
  {
   "cell_type": "markdown",
   "id": "a535ee66",
   "metadata": {},
   "source": [
    "### 5. What methods do you use to rotate a page?\n",
    "\n",
    "        In PyPDF2, we can use the rotateClockwise() and rotateCounterClockwise() methods of a Page object to rotate the\n",
    "        page by 90 degrees clockwise or counterclockwise, respectively."
   ]
  },
  {
   "cell_type": "markdown",
   "id": "85c8c606",
   "metadata": {},
   "source": [
    "### 6. What is the difference between a Run object and a Paragraph object?\n",
    "\n",
    "        A Paragraph object represents a single paragraph of text in a Word document. It contains one or more Run objects,\n",
    "        Run are contiguous sequences of text with the same style and formatting within the paragraph."
   ]
  },
  {
   "cell_type": "markdown",
   "id": "5fd405bb",
   "metadata": {},
   "source": [
    "### 7. How do you obtain a list of Paragraph objects for a Document object that’s stored in a variable named doc?\n",
    "\n",
    "\n",
    "        #!pip install python-docx\n",
    "        import docx\n",
    "        doc = docx.Document('demo.docx')\n",
    "        doc.paragraphs\n"
   ]
  },
  {
   "cell_type": "markdown",
   "id": "d9f8c5df",
   "metadata": {},
   "source": [
    "### 8. What type of object has bold, underline, italic, strike, and outline variables?\n",
    "\n",
    "        A Run object has bold, underline,italic,strike and outline variables\n"
   ]
  },
  {
   "cell_type": "markdown",
   "id": "57cd1947",
   "metadata": {},
   "source": [
    "### 9. What is the difference between False, True, and None for the bold variable?\n",
    "\n",
    "        True means the text should be bolded, \n",
    "        False means it should not be bolded, and \n",
    "        None means that no specific boldness value has been set."
   ]
  },
  {
   "cell_type": "markdown",
   "id": "87b94302",
   "metadata": {},
   "source": [
    "### 10. How do you create a Document object for a new Word document?\n",
    "\n",
    "        By Calling the docx.Document() function."
   ]
  },
  {
   "cell_type": "markdown",
   "id": "b693c0f2",
   "metadata": {},
   "source": [
    "### 11. How do you add a paragraph with the text 'Hello, there' to a Document object stored in a variable named doc?\n",
    "\n",
    "        doc.add_paragraph('Hello, there!')"
   ]
  },
  {
   "cell_type": "markdown",
   "id": "0b6a216f",
   "metadata": {},
   "source": [
    "### 12. What integers represent the levels of headings available in Word documents?\n",
    "\n",
    "        Heading level ranges from 0-9, where 0 is the largest size while 9 is smallest."
   ]
  }
 ],
 "metadata": {
  "kernelspec": {
   "display_name": "Python 3 (ipykernel)",
   "language": "python",
   "name": "python3"
  },
  "language_info": {
   "codemirror_mode": {
    "name": "ipython",
    "version": 3
   },
   "file_extension": ".py",
   "mimetype": "text/x-python",
   "name": "python",
   "nbconvert_exporter": "python",
   "pygments_lexer": "ipython3",
   "version": "3.9.13"
  }
 },
 "nbformat": 4,
 "nbformat_minor": 5
}
