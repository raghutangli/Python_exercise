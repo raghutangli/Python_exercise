{
 "cells": [
  {
   "cell_type": "code",
   "execution_count": 1,
   "id": "ff2d8b4d",
   "metadata": {},
   "outputs": [
    {
     "name": "stdout",
     "output_type": "stream",
     "text": [
      "Hello Python\n"
     ]
    }
   ],
   "source": [
    "#1.\tWrite a Python program to print \"Hello Python\"?\n",
    "\n",
    "print(\"Hello Python\")"
   ]
  },
  {
   "cell_type": "code",
   "execution_count": 3,
   "id": "e8c0bf2a",
   "metadata": {},
   "outputs": [
    {
     "name": "stdout",
     "output_type": "stream",
     "text": [
      "50\n",
      "0.6666666666666666\n"
     ]
    }
   ],
   "source": [
    "#2.\tWrite a Python program to do arithmetical operations addition and division.?\n",
    "\n",
    "a = 20\n",
    "b = 30\n",
    "print(a+b)\n",
    "print(a/b)"
   ]
  },
  {
   "cell_type": "code",
   "execution_count": 4,
   "id": "420c728b",
   "metadata": {},
   "outputs": [
    {
     "name": "stdout",
     "output_type": "stream",
     "text": [
      "75.0\n"
     ]
    }
   ],
   "source": [
    "#3.\tWrite a Python program to find the area of a triangle?\n",
    "base = 10\n",
    "height = 15\n",
    "area = 0.5*base*height\n",
    "print(area)"
   ]
  },
  {
   "cell_type": "code",
   "execution_count": 7,
   "id": "e028ea4d",
   "metadata": {},
   "outputs": [
    {
     "name": "stdout",
     "output_type": "stream",
     "text": [
      "7 5\n"
     ]
    }
   ],
   "source": [
    "#4.\tWrite a Python program to swap two variables?\n",
    "\n",
    "a = 5\n",
    "b = 7\n",
    "a,b = b,a\n",
    "print(a,b)"
   ]
  },
  {
   "cell_type": "code",
   "execution_count": 13,
   "id": "f6ba7445",
   "metadata": {},
   "outputs": [
    {
     "name": "stdout",
     "output_type": "stream",
     "text": [
      "4\n"
     ]
    }
   ],
   "source": [
    "#5.\tWrite a Python program to generate a random number?\n",
    "\n",
    "import random\n",
    "print(random.randint(0,9))"
   ]
  }
 ],
 "metadata": {
  "kernelspec": {
   "display_name": "Python 3 (ipykernel)",
   "language": "python",
   "name": "python3"
  },
  "language_info": {
   "codemirror_mode": {
    "name": "ipython",
    "version": 3
   },
   "file_extension": ".py",
   "mimetype": "text/x-python",
   "name": "python",
   "nbconvert_exporter": "python",
   "pygments_lexer": "ipython3",
   "version": "3.9.13"
  }
 },
 "nbformat": 4,
 "nbformat_minor": 5
}
