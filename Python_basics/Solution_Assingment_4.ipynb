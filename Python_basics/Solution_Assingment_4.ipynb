{
 "cells": [
  {
   "cell_type": "code",
   "execution_count": 1,
   "id": "a84f7856",
   "metadata": {},
   "outputs": [
    {
     "name": "stdout",
     "output_type": "stream",
     "text": [
      "factorial of 5 is 120\n"
     ]
    }
   ],
   "source": [
    "#1.\tWrite a Python Program to Find the Factorial of a Number?\n",
    "\n",
    "def factorial(num):\n",
    "    fact = 1\n",
    "    if num < 0 :\n",
    "        print(\"No Factorial for negative number\")\n",
    "        \n",
    "    elif num == 0:\n",
    "        print(f\"factorial of {num} is 1\")\n",
    "    \n",
    "    else:\n",
    "        for i in range(1,num+1):\n",
    "            fact = fact*i\n",
    "            \n",
    "        print (f\"factorial of {num} is {fact}\")\n",
    "            \n",
    "        \n",
    "factorial(5)       "
   ]
  },
  {
   "cell_type": "code",
   "execution_count": 2,
   "id": "a9fc952c",
   "metadata": {},
   "outputs": [
    {
     "name": "stdout",
     "output_type": "stream",
     "text": [
      "5 x 1 = 5\n",
      "5 x 2 = 10\n",
      "5 x 3 = 15\n",
      "5 x 4 = 20\n",
      "5 x 5 = 25\n",
      "5 x 6 = 30\n",
      "5 x 7 = 35\n",
      "5 x 8 = 40\n",
      "5 x 9 = 45\n",
      "5 x 10 = 50\n"
     ]
    }
   ],
   "source": [
    "#2.\tWrite a Python Program to Display the multiplication Table?\n",
    "\n",
    "def multiple_table(num):\n",
    "    for i in range(1,11):\n",
    "        print(f\"{num} x {i} = {num*i}\")\n",
    "        \n",
    "multiple_table(5)"
   ]
  },
  {
   "cell_type": "code",
   "execution_count": 3,
   "id": "938dd021",
   "metadata": {},
   "outputs": [],
   "source": [
    "#3.\tWrite a Python Program to Print the Fibonacci sequence?\n",
    "\n",
    "\n",
    "def fibonacci(num):\n",
    "    a,b = 0,1\n",
    "    if num <= 0:\n",
    "       print(\"Please enter a positive integer\")\n",
    "    elif num == 1:\n",
    "       print(\"Fibonacci sequence upto\",num,\":\")\n",
    "       print(a)\n",
    "    else:\n",
    "       print(\"Fibonacci sequence:\")\n",
    "       for i in range(num):\n",
    "            print(a, end = \" \")\n",
    "            c = a + b\n",
    "            a = b\n",
    "            b = c"
   ]
  },
  {
   "cell_type": "code",
   "execution_count": 4,
   "id": "4dc2d6d2",
   "metadata": {},
   "outputs": [
    {
     "name": "stdout",
     "output_type": "stream",
     "text": [
      "Fibonacci sequence:\n",
      "0 1 1 2 3 5 8 13 21 34 "
     ]
    }
   ],
   "source": [
    "fibonacci(10)"
   ]
  },
  {
   "cell_type": "code",
   "execution_count": 5,
   "id": "d6441161",
   "metadata": {},
   "outputs": [
    {
     "name": "stdout",
     "output_type": "stream",
     "text": [
      "entered number 370 is Armstrong Number\n"
     ]
    }
   ],
   "source": [
    "#4.\tWrite a Python Program to Check Armstrong Number?\n",
    "\n",
    "\n",
    "def armstrongnumber(num):\n",
    "    \n",
    "    numorder  = len(str(num))\n",
    "    sum = 0\n",
    "    temp = num\n",
    "    \n",
    "    while temp > 0:\n",
    "        a = temp%10\n",
    "        sum += a**numorder\n",
    "        temp//= 10\n",
    "    if num == sum:\n",
    "        print(f\"entered number {num} is Armstrong Number\")\n",
    "    else:\n",
    "        print(f\"entered number {num} is not an Armstrong Number\")\n",
    "armstrongnumber(370)"
   ]
  },
  {
   "cell_type": "code",
   "execution_count": 6,
   "id": "450defe1",
   "metadata": {},
   "outputs": [
    {
     "name": "stdout",
     "output_type": "stream",
     "text": [
      "Enter the starting number: 5\n",
      "Enter the ending number: 5000\n",
      "Armstrong numbers in the interval [5, 5000]: \n",
      "5 6 7 8 9 153 370 371 407 1634 "
     ]
    }
   ],
   "source": [
    "#5.\tWrite a Python Program to Check Armstrong Number?\n",
    "\n",
    "def findArmstrongNumbers(start, end):\n",
    "    for num in range(start, end+1):\n",
    "        order = len(str(num))\n",
    "        sum = 0\n",
    "        temp = num\n",
    "        while temp > 0:\n",
    "            digit = temp % 10\n",
    "            sum += digit ** order\n",
    "            temp //= 10\n",
    "        if num == sum:\n",
    "            print(num, end = \" \")\n",
    " \n",
    "start = int(input(\"Enter the starting number: \"))\n",
    "end = int(input(\"Enter the ending number: \"))\n",
    "print(\"Armstrong numbers in the interval [{}, {}]: \".format(start, end))\n",
    "findArmstrongNumbers(start, end)"
   ]
  },
  {
   "cell_type": "code",
   "execution_count": 11,
   "id": "8027cdb1",
   "metadata": {},
   "outputs": [
    {
     "data": {
      "text/plain": [
       "136"
      ]
     },
     "execution_count": 11,
     "metadata": {},
     "output_type": "execute_result"
    }
   ],
   "source": [
    "#6.\tWrite a Python Program to Find the Sum of Natural Numbers?\n",
    "\n",
    "def sum_num(num):\n",
    "    sum = 0\n",
    "    i = 1\n",
    "    while i <= num :\n",
    "        sum += i\n",
    "        i = i + 1\n",
    "    return sum\n",
    "\n",
    "sum_num(16)"
   ]
  }
 ],
 "metadata": {
  "kernelspec": {
   "display_name": "Python 3 (ipykernel)",
   "language": "python",
   "name": "python3"
  },
  "language_info": {
   "codemirror_mode": {
    "name": "ipython",
    "version": 3
   },
   "file_extension": ".py",
   "mimetype": "text/x-python",
   "name": "python",
   "nbconvert_exporter": "python",
   "pygments_lexer": "ipython3",
   "version": "3.9.13"
  }
 },
 "nbformat": 4,
 "nbformat_minor": 5
}
