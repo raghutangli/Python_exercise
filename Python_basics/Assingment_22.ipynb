{
 "cells": [
  {
   "cell_type": "markdown",
   "id": "9e930001",
   "metadata": {},
   "source": [
    "### 1. What is the result of the code, and explain?\n",
    "\n",
    "        The global variables are accessible in side the functions in python. But we can not access function variable out\n",
    "        side function. Since x is golbal variable we are able to print it in side the function\n",
    "        solution : 'iNeuron'\n"
   ]
  },
  {
   "cell_type": "code",
   "execution_count": 1,
   "id": "97373c95",
   "metadata": {},
   "outputs": [
    {
     "name": "stdout",
     "output_type": "stream",
     "text": [
      "iNeuron\n"
     ]
    }
   ],
   "source": [
    "X = 'iNeuron'\n",
    "def func():\n",
    "    print(X)\n",
    "func()"
   ]
  },
  {
   "cell_type": "markdown",
   "id": "87a7d5b5",
   "metadata": {},
   "source": [
    "### 2. What is the result of the code, and explain?\n",
    "\n",
    "        The global variables are access in side the functions in python. But we can not access function variable out side\n",
    "        function. Since x is golbal variable we are able to print it out side of the function.\n",
    "        solution = 'iNeuron'\n"
   ]
  },
  {
   "cell_type": "code",
   "execution_count": 3,
   "id": "a23bde47",
   "metadata": {},
   "outputs": [
    {
     "name": "stdout",
     "output_type": "stream",
     "text": [
      "iNeuron\n"
     ]
    }
   ],
   "source": [
    "X = 'iNeuron'\n",
    "def func():\n",
    "    X = 'NI!'\n",
    "\n",
    "func()\n",
    "print(X)"
   ]
  },
  {
   "cell_type": "markdown",
   "id": "9c537fe5",
   "metadata": {},
   "source": [
    "### 3. What does this code print, and why?\n",
    "\n",
    "        The global variables are access in side the functions in python. But we can not access function variable out side\n",
    "        function. X is updated with 'NI' which is local to function and its immutable. its name space is with in the\n",
    "        function.\n",
    "        solution = 'NI!', 'iNeuron'"
   ]
  },
  {
   "cell_type": "code",
   "execution_count": 4,
   "id": "f8096348",
   "metadata": {},
   "outputs": [
    {
     "name": "stdout",
     "output_type": "stream",
     "text": [
      "NI!\n",
      "iNeuron\n"
     ]
    }
   ],
   "source": [
    "X = 'iNeuron'\n",
    "def func():\n",
    "    X = 'NI!'\n",
    "    print(X)\n",
    "\n",
    "func()\n",
    "print(X)"
   ]
  },
  {
   "cell_type": "markdown",
   "id": "6b6d0a47",
   "metadata": {},
   "source": [
    "### 4. What output does this code produce? Why?\n",
    "\n",
    "\n",
    "        since the X in side function is made Global, it will be accesible out side of the function too. now X will have new\n",
    "        value.\n",
    "        solution : 'NI!', 'NI!'"
   ]
  },
  {
   "cell_type": "code",
   "execution_count": 5,
   "id": "50235e41",
   "metadata": {},
   "outputs": [
    {
     "name": "stdout",
     "output_type": "stream",
     "text": [
      "NI!\n",
      "NI!\n"
     ]
    }
   ],
   "source": [
    "X = 'iNeuron'\n",
    "def func():\n",
    "    global X\n",
    "    X = 'NI!'\n",
    "    print(X)\n",
    "\n",
    "func()\n",
    "print(X)"
   ]
  },
  {
   "cell_type": "markdown",
   "id": "6321f3db",
   "metadata": {},
   "source": [
    "### 5. What about this code—what’s the output, and why?\n",
    "\n",
    "        the nested() function will print 'iNeuron', Then func() does not display anything, and x ='NI' is not accessible\n",
    "        out side the function.\n",
    "        Solution : 'iNeuron'"
   ]
  },
  {
   "cell_type": "code",
   "execution_count": 11,
   "id": "3fb18b8e",
   "metadata": {},
   "outputs": [
    {
     "name": "stdout",
     "output_type": "stream",
     "text": [
      "iNeuron\n"
     ]
    },
    {
     "data": {
      "text/plain": [
       "'iNeuron'"
      ]
     },
     "execution_count": 11,
     "metadata": {},
     "output_type": "execute_result"
    }
   ],
   "source": [
    "X = 'iNeuron'\n",
    "def func():\n",
    "    X = 'NI'\n",
    "def nested():\n",
    "    print(X)\n",
    "    \n",
    "nested()\n",
    "func()\n",
    "X"
   ]
  },
  {
   "cell_type": "markdown",
   "id": "c9ad4873",
   "metadata": {},
   "source": [
    "### 6. How about this code: what is its output in Python 3, and explain?\n",
    "\n",
    "        Nonlocal variables are used in nested functions whose local scope is not defined. \n",
    "        This means that the variable can be neither in the local nor the global scope. it print the updated value from\n",
    "        nested function.\n",
    "        Solution : 'spam'"
   ]
  },
  {
   "cell_type": "code",
   "execution_count": 12,
   "id": "c5553106",
   "metadata": {},
   "outputs": [
    {
     "name": "stdout",
     "output_type": "stream",
     "text": [
      "spam\n"
     ]
    }
   ],
   "source": [
    "def func():\n",
    "    X = 'NI'\n",
    "    def nested():\n",
    "        nonlocal X\n",
    "        X = 'spam'\n",
    "    nested()\n",
    "    print(X)\n",
    "\n",
    "func()"
   ]
  }
 ],
 "metadata": {
  "kernelspec": {
   "display_name": "Python 3 (ipykernel)",
   "language": "python",
   "name": "python3"
  },
  "language_info": {
   "codemirror_mode": {
    "name": "ipython",
    "version": 3
   },
   "file_extension": ".py",
   "mimetype": "text/x-python",
   "name": "python",
   "nbconvert_exporter": "python",
   "pygments_lexer": "ipython3",
   "version": "3.9.13"
  }
 },
 "nbformat": 4,
 "nbformat_minor": 5
}
