{
 "cells": [
  {
   "cell_type": "markdown",
   "id": "9680ffe1",
   "metadata": {},
   "source": [
    "### 1. What are escape characters, and how do you use them?\n",
    "\n",
    "Escape characters are special characters that are used to represent certain characters that are difficult or impossible to type in a string or character literal. They are represented by a backslash (\\) followed by a character or sequence of characters."
   ]
  },
  {
   "cell_type": "code",
   "execution_count": 2,
   "id": "82923148",
   "metadata": {},
   "outputs": [
    {
     "name": "stdout",
     "output_type": "stream",
     "text": [
      "capital city of karnataka is 'Bengaluru'\n"
     ]
    }
   ],
   "source": [
    "print('Capital city of Karnataka is \\'Bengaluru\\'')"
   ]
  },
  {
   "cell_type": "markdown",
   "id": "b975d438",
   "metadata": {},
   "source": [
    "### 2. What do the escape characters n and t stand for?\n",
    "\n",
    "\\n: newline character\n",
    "\n",
    "\\t: tab character"
   ]
  },
  {
   "cell_type": "code",
   "execution_count": 5,
   "id": "d96ad4d1",
   "metadata": {},
   "outputs": [
    {
     "name": "stdout",
     "output_type": "stream",
     "text": [
      "Capital city of\n",
      "Karnataka is\n",
      "Bengaluru\n"
     ]
    }
   ],
   "source": [
    "print('Capital city of\\nKarnataka is\\nBengaluru')"
   ]
  },
  {
   "cell_type": "code",
   "execution_count": 9,
   "id": "da531a66",
   "metadata": {},
   "outputs": [
    {
     "name": "stdout",
     "output_type": "stream",
     "text": [
      "Capital city of \t Karnataka is \t Bengaluru\n"
     ]
    }
   ],
   "source": [
    "print('Capital city of \\t Karnataka is \\t Bengaluru')"
   ]
  },
  {
   "cell_type": "markdown",
   "id": "40ee7421",
   "metadata": {},
   "source": [
    "### 3. What is the way to include backslash characters in a string?\n",
    "\n",
    "A blackslash character can be introduced with double blackslash characters."
   ]
  },
  {
   "cell_type": "code",
   "execution_count": 13,
   "id": "9bc60c05",
   "metadata": {},
   "outputs": [
    {
     "ename": "SyntaxError",
     "evalue": "EOL while scanning string literal (4138952293.py, line 1)",
     "output_type": "error",
     "traceback": [
      "\u001b[1;36m  File \u001b[1;32m\"C:\\Users\\ragha\\AppData\\Local\\Temp\\ipykernel_13004\\4138952293.py\"\u001b[1;36m, line \u001b[1;32m1\u001b[0m\n\u001b[1;33m    print('\\')\u001b[0m\n\u001b[1;37m              ^\u001b[0m\n\u001b[1;31mSyntaxError\u001b[0m\u001b[1;31m:\u001b[0m EOL while scanning string literal\n"
     ]
    }
   ],
   "source": [
    "print('\\')"
   ]
  },
  {
   "cell_type": "code",
   "execution_count": 14,
   "id": "145f028a",
   "metadata": {},
   "outputs": [
    {
     "name": "stdout",
     "output_type": "stream",
     "text": [
      "\\\n"
     ]
    }
   ],
   "source": [
    "print('\\\\')"
   ]
  },
  {
   "cell_type": "markdown",
   "id": "fc49ec59",
   "metadata": {},
   "source": [
    "### 4. The string \"Howl's Moving Castle\" is a correct value. Why isn't the single quote character in the word Howl's not escaped a problem?\n",
    "\n",
    "\"Howl's Moving Castle\"  is a correct value becuase whole string value is enclosed with double quotes. Howl's is having single quote so it will not make any problem."
   ]
  },
  {
   "cell_type": "code",
   "execution_count": 16,
   "id": "42a0ce72",
   "metadata": {},
   "outputs": [
    {
     "name": "stdout",
     "output_type": "stream",
     "text": [
      "Howl's 'Moving Castle\n"
     ]
    }
   ],
   "source": [
    "print(\"Howl's Moving Castle\")"
   ]
  },
  {
   "cell_type": "markdown",
   "id": "fcfb3ba1",
   "metadata": {},
   "source": [
    "### 5. How do you write a string of newlines if you don't want to use the n character?\n",
    "\n",
    "The newline character can be added to print() function in order to display the string on a new line"
   ]
  },
  {
   "cell_type": "code",
   "execution_count": 17,
   "id": "cb0b0bf7",
   "metadata": {
    "scrolled": true
   },
   "outputs": [
    {
     "name": "stdout",
     "output_type": "stream",
     "text": [
      "Howl's\n",
      "Moving\n",
      "Castle\n"
     ]
    }
   ],
   "source": [
    "print(\"Howl's\")\n",
    "print(\"Moving\")\n",
    "print(\"Castle\")"
   ]
  },
  {
   "cell_type": "markdown",
   "id": "eb50a93e",
   "metadata": {},
   "source": [
    "### 6. What are the values of the given expressions?"
   ]
  },
  {
   "cell_type": "code",
   "execution_count": 19,
   "id": "67c041b4",
   "metadata": {},
   "outputs": [
    {
     "data": {
      "text/plain": [
       "'e'"
      ]
     },
     "execution_count": 19,
     "metadata": {},
     "output_type": "execute_result"
    }
   ],
   "source": [
    "'Hello , world!'[1]"
   ]
  },
  {
   "cell_type": "code",
   "execution_count": 20,
   "id": "53736b97",
   "metadata": {},
   "outputs": [
    {
     "data": {
      "text/plain": [
       "'Hello'"
      ]
     },
     "execution_count": 20,
     "metadata": {},
     "output_type": "execute_result"
    }
   ],
   "source": [
    "'Hello , world!'[0:5]"
   ]
  },
  {
   "cell_type": "code",
   "execution_count": 21,
   "id": "74070ec9",
   "metadata": {},
   "outputs": [
    {
     "data": {
      "text/plain": [
       "'Hello'"
      ]
     },
     "execution_count": 21,
     "metadata": {},
     "output_type": "execute_result"
    }
   ],
   "source": [
    "'Hello , world!'[:5]"
   ]
  },
  {
   "cell_type": "code",
   "execution_count": 22,
   "id": "fc3885a3",
   "metadata": {},
   "outputs": [
    {
     "data": {
      "text/plain": [
       "'lo , world!'"
      ]
     },
     "execution_count": 22,
     "metadata": {},
     "output_type": "execute_result"
    }
   ],
   "source": [
    "'Hello , world!'[3:]"
   ]
  },
  {
   "cell_type": "markdown",
   "id": "d25ea487",
   "metadata": {},
   "source": [
    "### 7. What are the values of the following expressions?"
   ]
  },
  {
   "cell_type": "code",
   "execution_count": 23,
   "id": "e7ffd2b6",
   "metadata": {},
   "outputs": [
    {
     "data": {
      "text/plain": [
       "'HELLO'"
      ]
     },
     "execution_count": 23,
     "metadata": {},
     "output_type": "execute_result"
    }
   ],
   "source": [
    "'Hello'.upper()"
   ]
  },
  {
   "cell_type": "code",
   "execution_count": 24,
   "id": "4b76f06e",
   "metadata": {},
   "outputs": [
    {
     "data": {
      "text/plain": [
       "True"
      ]
     },
     "execution_count": 24,
     "metadata": {},
     "output_type": "execute_result"
    }
   ],
   "source": [
    "'Hello'.upper().isupper()"
   ]
  },
  {
   "cell_type": "code",
   "execution_count": 25,
   "id": "7446aabd",
   "metadata": {},
   "outputs": [
    {
     "data": {
      "text/plain": [
       "'hello'"
      ]
     },
     "execution_count": 25,
     "metadata": {},
     "output_type": "execute_result"
    }
   ],
   "source": [
    "'Hello'.upper().lower()"
   ]
  },
  {
   "cell_type": "markdown",
   "id": "e9243a13",
   "metadata": {},
   "source": [
    "### 8. What are the values of the following expressions?\n"
   ]
  },
  {
   "cell_type": "code",
   "execution_count": 29,
   "id": "6062f342",
   "metadata": {},
   "outputs": [
    {
     "data": {
      "text/plain": [
       "['Remember,', 'remember,', 'the', 'fifth', 'of', 'july']"
      ]
     },
     "execution_count": 29,
     "metadata": {},
     "output_type": "execute_result"
    }
   ],
   "source": [
    "'Remember, remember, the fifth of july'.split()"
   ]
  },
  {
   "cell_type": "code",
   "execution_count": 31,
   "id": "1c8c4f21",
   "metadata": {},
   "outputs": [
    {
     "data": {
      "text/plain": [
       "'there-can-only-one.'"
      ]
     },
     "execution_count": 31,
     "metadata": {},
     "output_type": "execute_result"
    }
   ],
   "source": [
    "'-'.join('there can only one.'.split())"
   ]
  },
  {
   "cell_type": "markdown",
   "id": "57826459",
   "metadata": {},
   "source": [
    "### 9. What are the methods for right-justifying, left-justifying, and centering a string?\n",
    "\n",
    "These methods are used to allign the string to left or right or center."
   ]
  },
  {
   "cell_type": "code",
   "execution_count": 36,
   "id": "5e22d777",
   "metadata": {},
   "outputs": [
    {
     "name": "stdout",
     "output_type": "stream",
     "text": [
      "***********namaskara\n",
      "namaskara***********\n",
      "*****namaskara******\n"
     ]
    }
   ],
   "source": [
    "s = \"namaskara\"\n",
    "length = 20\n",
    "fillchars = \"*\"\n",
    "\n",
    "print(s.rjust(length, fillchars))\n",
    "print(s.ljust(length, fillchars))\n",
    "print(s.center(length, fillchars))"
   ]
  },
  {
   "cell_type": "markdown",
   "id": "d4532179",
   "metadata": {},
   "source": [
    "### 10. What is the best way to remove whitespace characters from the start or end?"
   ]
  },
  {
   "cell_type": "code",
   "execution_count": 38,
   "id": "b8e1ae3e",
   "metadata": {},
   "outputs": [
    {
     "name": "stdout",
     "output_type": "stream",
     "text": [
      "   INDIA   \n",
      "11\n"
     ]
    }
   ],
   "source": [
    "s = '   INDIA   '\n",
    "print(s)\n",
    "print(len(s))"
   ]
  },
  {
   "cell_type": "code",
   "execution_count": 40,
   "id": "b5c3440b",
   "metadata": {},
   "outputs": [
    {
     "name": "stdout",
     "output_type": "stream",
     "text": [
      "INDIA\n",
      "5\n"
     ]
    }
   ],
   "source": [
    "s1 = s.strip()\n",
    "print(s1)\n",
    "print(len(s1))"
   ]
  }
 ],
 "metadata": {
  "kernelspec": {
   "display_name": "Python 3 (ipykernel)",
   "language": "python",
   "name": "python3"
  },
  "language_info": {
   "codemirror_mode": {
    "name": "ipython",
    "version": 3
   },
   "file_extension": ".py",
   "mimetype": "text/x-python",
   "name": "python",
   "nbconvert_exporter": "python",
   "pygments_lexer": "ipython3",
   "version": "3.9.13"
  }
 },
 "nbformat": 4,
 "nbformat_minor": 5
}
