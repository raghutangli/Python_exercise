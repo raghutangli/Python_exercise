{
 "cells": [
  {
   "cell_type": "markdown",
   "id": "651d5d74",
   "metadata": {},
   "source": [
    "### 1. What does an empty dictionary's code look like?\n",
    "\n",
    "dict_1 = {}"
   ]
  },
  {
   "cell_type": "markdown",
   "id": "3fafe1e1",
   "metadata": {},
   "source": [
    "### 2. What is the value of a dictionary value with the key 'foo' and the value 42?\n",
    "\n",
    "42"
   ]
  },
  {
   "cell_type": "code",
   "execution_count": 7,
   "id": "a2600b59",
   "metadata": {},
   "outputs": [
    {
     "data": {
      "text/plain": [
       "dict_values([42])"
      ]
     },
     "execution_count": 7,
     "metadata": {},
     "output_type": "execute_result"
    }
   ],
   "source": [
    "dict_1 = {'foo' : 42}\n",
    "\n",
    "dict_1.values()"
   ]
  },
  {
   "cell_type": "markdown",
   "id": "07c63d7d",
   "metadata": {},
   "source": [
    "### 3. What is the most significant distinction between a dictionary and a list?\n",
    "\n",
    "The most significant distinction between a dictionary and a list is that a dictionary is an unordered collection of key-value pairs, while a list is an ordered collection of elements."
   ]
  },
  {
   "cell_type": "markdown",
   "id": "cac011bd",
   "metadata": {},
   "source": [
    "### 4. What happens if you try to access spam['foo'] if spam is {'bar': 100}?\n",
    "\n",
    "KeyError will come if we want access value of the key which is not in dictionery."
   ]
  },
  {
   "cell_type": "code",
   "execution_count": 8,
   "id": "2784aa5b",
   "metadata": {},
   "outputs": [
    {
     "ename": "KeyError",
     "evalue": "'foo'",
     "output_type": "error",
     "traceback": [
      "\u001b[1;31m---------------------------------------------------------------------------\u001b[0m",
      "\u001b[1;31mKeyError\u001b[0m                                  Traceback (most recent call last)",
      "\u001b[1;32m~\\AppData\\Local\\Temp\\ipykernel_23768\\414641506.py\u001b[0m in \u001b[0;36m<module>\u001b[1;34m\u001b[0m\n\u001b[0;32m      1\u001b[0m \u001b[0mspam\u001b[0m \u001b[1;33m=\u001b[0m \u001b[1;33m{\u001b[0m\u001b[1;34m'bar'\u001b[0m\u001b[1;33m:\u001b[0m \u001b[1;36m100\u001b[0m\u001b[1;33m}\u001b[0m\u001b[1;33m\u001b[0m\u001b[1;33m\u001b[0m\u001b[0m\n\u001b[1;32m----> 2\u001b[1;33m \u001b[0mspam\u001b[0m\u001b[1;33m[\u001b[0m\u001b[1;34m'foo'\u001b[0m\u001b[1;33m]\u001b[0m\u001b[1;33m\u001b[0m\u001b[1;33m\u001b[0m\u001b[0m\n\u001b[0m",
      "\u001b[1;31mKeyError\u001b[0m: 'foo'"
     ]
    }
   ],
   "source": [
    "spam = {'bar': 100}\n",
    "spam['foo']"
   ]
  },
  {
   "cell_type": "markdown",
   "id": "88d71269",
   "metadata": {},
   "source": [
    "### 5. If a dictionary is stored in spam, what is the difference between the expressions 'cat' in spam and 'cat' in spam.keys()?\n",
    "\n",
    "Both expressions check whether the string 'cat' is a key in the dictionary spam, but the second expression explicitly accesses the keys of the dictionary using the .keys() method, whereas the first expression implicitly checks the keys of the dictionary. The result of both expressions will be the same."
   ]
  },
  {
   "cell_type": "markdown",
   "id": "492ca57e",
   "metadata": {},
   "source": [
    "### 6. If a dictionary is stored in spam, what is the difference between the expressions 'cat' in spam and'cat' in spam.values()?\n",
    "\n",
    "'cat' in spam checks if 'cat' key is presend in dictionary or not.\n",
    "\n",
    "'cat' in spam.values() check 'cat' value in any of the key of spam."
   ]
  },
  {
   "cell_type": "markdown",
   "id": "b03dc141",
   "metadata": {},
   "source": [
    "### 7.What is a shortcut for the following code?\n",
    "\n",
    "if 'color' not in spam:\n",
    "\n",
    "    spam['color'] = 'black'\n",
    "    \n",
    "    \n",
    "setdefault method is used to set a default value for a key in a dictionary if the key is not already present in the dictionary. The setdefault() method takes two arguments: the first argument is the key to check for in the dictionary, and the second argument is the default value to set for the key if it is not already present in the dictionary."
   ]
  },
  {
   "cell_type": "code",
   "execution_count": 15,
   "id": "b09c6272",
   "metadata": {},
   "outputs": [
    {
     "data": {
      "text/plain": [
       "'black'"
      ]
     },
     "execution_count": 15,
     "metadata": {},
     "output_type": "execute_result"
    }
   ],
   "source": [
    "spam = {}\n",
    "spam.setdefault('color', 'black')"
   ]
  },
  {
   "cell_type": "markdown",
   "id": "1491e72a",
   "metadata": {},
   "source": [
    "### 8. How do you 'pretty print' dictionary values using which module and function?\n",
    "\n",
    "We can use the json module to \"pretty print\" dictionary values. The json module provides the dumps() function with the indent parameter that specifies the number of spaces to use for indentation."
   ]
  },
  {
   "cell_type": "code",
   "execution_count": 18,
   "id": "aa57c9cd",
   "metadata": {},
   "outputs": [],
   "source": [
    "my_dict = {'name': 'ram' ,'age': 25 , 'gender': 'Male' , 'blood group': 'O+'}"
   ]
  },
  {
   "cell_type": "code",
   "execution_count": 19,
   "id": "957f7470",
   "metadata": {},
   "outputs": [
    {
     "data": {
      "text/plain": [
       "{'name': 'ram', 'age': 25, 'gender': 'Male', 'blood group': 'O+'}"
      ]
     },
     "execution_count": 19,
     "metadata": {},
     "output_type": "execute_result"
    }
   ],
   "source": [
    "my_dict"
   ]
  },
  {
   "cell_type": "code",
   "execution_count": 23,
   "id": "c2b6a998",
   "metadata": {},
   "outputs": [
    {
     "name": "stdout",
     "output_type": "stream",
     "text": [
      "{\n",
      "     \"name\": \"ram\",\n",
      "     \"age\": 25,\n",
      "     \"gender\": \"Male\",\n",
      "     \"blood group\": \"O+\"\n",
      "}\n"
     ]
    }
   ],
   "source": [
    "import json\n",
    "\n",
    "print(json.dumps(my_dict, indent=5))"
   ]
  }
 ],
 "metadata": {
  "kernelspec": {
   "display_name": "Python 3 (ipykernel)",
   "language": "python",
   "name": "python3"
  },
  "language_info": {
   "codemirror_mode": {
    "name": "ipython",
    "version": 3
   },
   "file_extension": ".py",
   "mimetype": "text/x-python",
   "name": "python",
   "nbconvert_exporter": "python",
   "pygments_lexer": "ipython3",
   "version": "3.9.13"
  }
 },
 "nbformat": 4,
 "nbformat_minor": 5
}
