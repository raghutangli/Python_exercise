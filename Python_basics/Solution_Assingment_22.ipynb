{
 "cells": [
  {
   "cell_type": "markdown",
   "id": "dcb399cc",
   "metadata": {},
   "source": [
    "# Question1\n",
    "Create a function that takes three parameters where:\n",
    "\n",
    "* x is the start of the range (inclusive).\n",
    "\n",
    "* y is the end of the range (inclusive).\n",
    "\n",
    "* n is the divisor to be checked against.\n",
    "\n",
    "Return an ordered list with numbers in the range that are divisible by the third parameter n.\n",
    "\n",
    "Return an empty list if there are no numbers that are divisible by n.\n",
    "\n",
    "Examples\n",
    "\n",
    "list_operation(1, 10, 3) ➞ [3, 6, 9]\n",
    "\n",
    "list_operation(7, 9, 2) ➞ [8]\n",
    "\n",
    "list_operation(15, 20, 7) ➞ []"
   ]
  },
  {
   "cell_type": "code",
   "execution_count": 3,
   "id": "c3fbbc79",
   "metadata": {},
   "outputs": [
    {
     "data": {
      "text/plain": [
       "[3, 6, 9]"
      ]
     },
     "execution_count": 3,
     "metadata": {},
     "output_type": "execute_result"
    }
   ],
   "source": [
    "def list_operation(x,y,n):\n",
    "    new_list = []\n",
    "    for i in range(x,y+1):\n",
    "        if i%n == 0 :\n",
    "            new_list.append(i)\n",
    "            \n",
    "    return new_list\n",
    "\n",
    "list_operation(1, 10, 3)"
   ]
  },
  {
   "cell_type": "markdown",
   "id": "7b811c93",
   "metadata": {},
   "source": [
    "# Question2\n",
    "Create a function that takes in two lists and returns True if the second list follows the first list by one element, and False otherwise. In other words, determine if the second list is the first list shifted to the right by 1.\n",
    "\n",
    "Examples\n",
    "\n",
    "simon_says([1, 2], [5, 1]) ➞ True\n",
    "\n",
    "simon_says([1, 2], [5, 5]) ➞ False\n",
    "\n",
    "simon_says([1, 2, 3, 4, 5], [0, 1, 2, 3, 4]) ➞ True\n",
    "\n",
    "simon_says([1, 2, 3, 4, 5], [5, 5, 1, 2, 3]) ➞ False\n",
    "\n",
    "Notes\n",
    "\n",
    "* Both input lists will be of the same length, and will have a minimum length of 2.\n",
    "\n",
    "* The values of the 0-indexed element in the second list and the n-1th indexed element in the first list do not matter.\n"
   ]
  },
  {
   "cell_type": "code",
   "execution_count": 4,
   "id": "3c4c82d4",
   "metadata": {},
   "outputs": [
    {
     "data": {
      "text/plain": [
       "False"
      ]
     },
     "execution_count": 4,
     "metadata": {},
     "output_type": "execute_result"
    }
   ],
   "source": [
    "def simon_says(ls,ls2):\n",
    "    if ls[0:len(ls)-1] == ls2[1:len(ls2)]:\n",
    "        return True\n",
    "    return False\n",
    "\n",
    "simon_says([1, 2, 3, 4, 5], [5, 5, 1, 2, 3])"
   ]
  },
  {
   "cell_type": "markdown",
   "id": "fa5274c9",
   "metadata": {},
   "source": [
    "# Question3\n",
    "A group of friends have decided to start a secret society. The name will be the first letter of each of their names, sorted in alphabetical order.\n",
    "\n",
    "Create a function that takes in a list of names and returns the name of the secret society.\n",
    "\n",
    "Examples\n",
    "\n",
    "society_name(['Adam', 'Sarah', 'Malcolm']) ➞ 'AMS'\n",
    "\n",
    "society_name(['Harry', 'Newt', 'Luna', 'Cho']) ➞ 'CHLN'\n",
    "\n",
    "society_name(['Phoebe', 'Chandler', 'Rachel', 'Ross', 'Monica', 'Joey'])"
   ]
  },
  {
   "cell_type": "code",
   "execution_count": 7,
   "id": "a7062db1",
   "metadata": {},
   "outputs": [
    {
     "data": {
      "text/plain": [
       "'CJMPRR'"
      ]
     },
     "execution_count": 7,
     "metadata": {},
     "output_type": "execute_result"
    }
   ],
   "source": [
    "lst = ['Phoebe', 'Chandler', 'Rachel', 'Ross', 'Monica', 'Joey']\n",
    "\n",
    "def society_name(lst):\n",
    "    name = ''\n",
    "    for i in lst:\n",
    "        name = name+i[0]\n",
    "        \n",
    "    return \"\".join(sorted(name))\n",
    "\n",
    "society_name(lst)\n",
    "\n",
    "    "
   ]
  },
  {
   "cell_type": "markdown",
   "id": "6d375bd3",
   "metadata": {},
   "source": [
    "# Question4\n",
    "An isogram is a word that has no duplicate letters. Create a function that takes a string and returns either True or False depending on whether or not it's an 'isogram'.\n",
    "\n",
    "Examples\n",
    "\n",
    "is_isogram('Algorism') ➞ True\n",
    "\n",
    "is_isogram('PasSword') ➞ False\n",
    "\n",
    "Not case sensitive.\n",
    "\n",
    "is_isogram('Consecutive') ➞ False\n",
    "\n",
    "Notes\n",
    "* Ignore letter case (should not be case sensitive).\n",
    "* All test cases contain valid one word strings."
   ]
  },
  {
   "cell_type": "code",
   "execution_count": 10,
   "id": "146cd949",
   "metadata": {},
   "outputs": [
    {
     "data": {
      "text/plain": [
       "False"
      ]
     },
     "execution_count": 10,
     "metadata": {},
     "output_type": "execute_result"
    }
   ],
   "source": [
    "def is_isogram(s):\n",
    "    for i in range(len(s)):\n",
    "        if s.lower().count(s[i]) > 1:\n",
    "            return False\n",
    "    else:\n",
    "        return True\n",
    "    \n",
    "is_isogram('Consecutive')"
   ]
  },
  {
   "cell_type": "markdown",
   "id": "c5c98f47",
   "metadata": {},
   "source": [
    "# Question5\n",
    "Create a function that takes a string and returns True or False, depending on whether the characters are in order or not.\n",
    "\n",
    "Examples\n",
    "\n",
    "is_in_order('abc') ➞ True\n",
    "\n",
    "is_in_order('edabit') ➞ False\n",
    "\n",
    "is_in_order('123') ➞ True\n",
    "\n",
    "is_in_order('xyzz') ➞ True\n",
    "\n",
    "Notes\n",
    "\n",
    "*You don't have to handle empty strings."
   ]
  },
  {
   "cell_type": "code",
   "execution_count": 15,
   "id": "9d147096",
   "metadata": {},
   "outputs": [
    {
     "data": {
      "text/plain": [
       "True"
      ]
     },
     "execution_count": 15,
     "metadata": {},
     "output_type": "execute_result"
    }
   ],
   "source": [
    "def is_in_order(s):\n",
    "    n = len(s)\n",
    "    c = [s[i] for i in range(len(s))]\n",
    "    c.sort()\n",
    "    for i in range(n):\n",
    "        if c[i] != s[i]:\n",
    "            return False\n",
    "    return True\n",
    "\n",
    "is_in_order('abc')      "
   ]
  }
 ],
 "metadata": {
  "kernelspec": {
   "display_name": "Python 3 (ipykernel)",
   "language": "python",
   "name": "python3"
  },
  "language_info": {
   "codemirror_mode": {
    "name": "ipython",
    "version": 3
   },
   "file_extension": ".py",
   "mimetype": "text/x-python",
   "name": "python",
   "nbconvert_exporter": "python",
   "pygments_lexer": "ipython3",
   "version": "3.9.13"
  }
 },
 "nbformat": 4,
 "nbformat_minor": 5
}
